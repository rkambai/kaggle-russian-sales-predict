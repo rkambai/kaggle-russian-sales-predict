{
  "nbformat": 4,
  "nbformat_minor": 0,
  "metadata": {
    "colab": {
      "name": "kaggle.ipynb",
      "provenance": [],
      "collapsed_sections": [],
      "authorship_tag": "ABX9TyPCL1SEQcif5S2ZFFS5l2TR",
      "include_colab_link": true
    },
    "kernelspec": {
      "display_name": "Python 3",
      "name": "python3"
    },
    "language_info": {
      "name": "python"
    }
  },
  "cells": [
    {
      "cell_type": "markdown",
      "metadata": {
        "id": "view-in-github",
        "colab_type": "text"
      },
      "source": [
        "<a href=\"https://colab.research.google.com/github/rkambai/kaggle-russian-sales-predict/blob/main/kaggle.ipynb\" target=\"_parent\"><img src=\"https://colab.research.google.com/assets/colab-badge.svg\" alt=\"Open In Colab\"/></a>"
      ]
    },
    {
      "cell_type": "code",
      "metadata": {
        "colab": {
          "base_uri": "https://localhost:8080/"
        },
        "id": "eVf1Dk0KFvWL",
        "outputId": "a2cb6dbe-e0ae-4fe9-f67c-ddae72e920d7"
      },
      "source": [
        "from google.colab import drive\n",
        "drive.mount('/content/drive')"
      ],
      "execution_count": null,
      "outputs": [
        {
          "output_type": "stream",
          "text": [
            "Mounted at /content/drive\n"
          ],
          "name": "stdout"
        }
      ]
    },
    {
      "cell_type": "code",
      "metadata": {
        "id": "Va8UihxTHlrk"
      },
      "source": [
        "import os\n",
        "os.chdir(\"/content/drive/MyDrive/kaggle/\")"
      ],
      "execution_count": null,
      "outputs": []
    },
    {
      "cell_type": "code",
      "metadata": {
        "id": "ssbzH3cjC7TI"
      },
      "source": [
        "import pandas as pd\n",
        "import numpy as np\n",
        "import seaborn as sb\n",
        "import matplotlib.pyplot as plt\n",
        "import statistics\n",
        "from itertools import product\n",
        "\n",
        "import tensorflow as tf\n",
        "from tensorflow import feature_column\n",
        "from tensorflow.keras import layers\n",
        "from tensorflow.keras import callbacks\n",
        "\n",
        "from sklearn.feature_extraction.text import HashingVectorizer\n",
        "from sklearn.model_selection import train_test_split"
      ],
      "execution_count": null,
      "outputs": []
    },
    {
      "cell_type": "code",
      "metadata": {
        "id": "t7B4VBwiEXEM"
      },
      "source": [
        "train, test, items, item_cat, shops, sample = pd.read_csv(\"sales_train.csv\"), pd.read_csv(\"test.csv\"),pd.read_csv(\"items.csv\"), pd.read_csv(\"item_categories.csv\"),pd.read_csv(\"shops.csv\"),pd.read_csv('sample_submission.csv')"
      ],
      "execution_count": null,
      "outputs": []
    },
    {
      "cell_type": "markdown",
      "metadata": {
        "id": "L8mtcKjXruJj"
      },
      "source": [
        "Some shops have repeated entries, change them to constant value and then dropping duplicate rows"
      ]
    },
    {
      "cell_type": "code",
      "metadata": {
        "id": "xUvH3rjITkFC"
      },
      "source": [
        "train.loc[train.shop_id == 0, 'shop_id'] = 57\n",
        "test.loc[test.shop_id == 0, 'shop_id'] = 57\n",
        "train.loc[train.shop_id == 1, 'shop_id'] = 58\n",
        "test.loc[test.shop_id == 1, 'shop_id'] = 58\n",
        "train.loc[train.shop_id == 10, 'shop_id'] = 11\n",
        "test.loc[test.shop_id == 10, 'shop_id'] = 11"
      ],
      "execution_count": null,
      "outputs": []
    },
    {
      "cell_type": "code",
      "metadata": {
        "id": "fLKmGzwpYByh"
      },
      "source": [
        "train.drop_duplicates(inplace=True)"
      ],
      "execution_count": null,
      "outputs": []
    },
    {
      "cell_type": "markdown",
      "metadata": {
        "id": "s4qTjsU8yrbc"
      },
      "source": [
        "We notice that the train data only contained rows where sales have been made. Thus, occasions where there were no sales at all were omitted, which may result in item_cnt_day predicted values being higher than expected, introducing bias to the model. Thus, the following code creates rows for each month, shop and item where no items have been sold."
      ]
    },
    {
      "cell_type": "code",
      "metadata": {
        "id": "VzLLgu04hmNX"
      },
      "source": [
        "index_cols = ['shop_id', 'item_id', 'date_block_num']\n",
        "\n",
        "# compute all shops/items combinations\n",
        "grid = []\n",
        "for block_num in train['date_block_num'].unique():\n",
        "    cur_shops = train.loc[train['date_block_num'] == block_num, 'shop_id'].unique()\n",
        "    cur_items = train.loc[train['date_block_num'] == block_num, 'item_id'].unique()\n",
        "    grid.append(np.array(list(product(*[cur_shops, cur_items, [block_num]])),dtype='int32'))\n",
        "grid = pd.DataFrame(np.vstack(grid), columns = index_cols,dtype=np.int32)"
      ],
      "execution_count": null,
      "outputs": []
    },
    {
      "cell_type": "code",
      "metadata": {
        "id": "-nReZM1liMl0"
      },
      "source": [
        "new_train = pd.merge(grid,train,on=['shop_id', 'item_id', 'date_block_num'],how='left').fillna(0)"
      ],
      "execution_count": null,
      "outputs": []
    },
    {
      "cell_type": "code",
      "metadata": {
        "colab": {
          "base_uri": "https://localhost:8080/",
          "height": 423
        },
        "id": "63oLt6s1k-qE",
        "outputId": "f059ede5-1980-4e90-fdd6-75c94f19da74"
      },
      "source": [
        "new_train"
      ],
      "execution_count": null,
      "outputs": [
        {
          "output_type": "execute_result",
          "data": {
            "text/html": [
              "<div>\n",
              "<style scoped>\n",
              "    .dataframe tbody tr th:only-of-type {\n",
              "        vertical-align: middle;\n",
              "    }\n",
              "\n",
              "    .dataframe tbody tr th {\n",
              "        vertical-align: top;\n",
              "    }\n",
              "\n",
              "    .dataframe thead th {\n",
              "        text-align: right;\n",
              "    }\n",
              "</style>\n",
              "<table border=\"1\" class=\"dataframe\">\n",
              "  <thead>\n",
              "    <tr style=\"text-align: right;\">\n",
              "      <th></th>\n",
              "      <th>shop_id</th>\n",
              "      <th>item_id</th>\n",
              "      <th>date_block_num</th>\n",
              "      <th>date</th>\n",
              "      <th>item_price</th>\n",
              "      <th>item_cnt_day</th>\n",
              "    </tr>\n",
              "  </thead>\n",
              "  <tbody>\n",
              "    <tr>\n",
              "      <th>0</th>\n",
              "      <td>59</td>\n",
              "      <td>22154</td>\n",
              "      <td>0</td>\n",
              "      <td>02.01.2013</td>\n",
              "      <td>999.0</td>\n",
              "      <td>1.0</td>\n",
              "    </tr>\n",
              "    <tr>\n",
              "      <th>1</th>\n",
              "      <td>59</td>\n",
              "      <td>2552</td>\n",
              "      <td>0</td>\n",
              "      <td>0</td>\n",
              "      <td>0.0</td>\n",
              "      <td>0.0</td>\n",
              "    </tr>\n",
              "    <tr>\n",
              "      <th>2</th>\n",
              "      <td>59</td>\n",
              "      <td>2554</td>\n",
              "      <td>0</td>\n",
              "      <td>0</td>\n",
              "      <td>0.0</td>\n",
              "      <td>0.0</td>\n",
              "    </tr>\n",
              "    <tr>\n",
              "      <th>3</th>\n",
              "      <td>59</td>\n",
              "      <td>2555</td>\n",
              "      <td>0</td>\n",
              "      <td>0</td>\n",
              "      <td>0.0</td>\n",
              "      <td>0.0</td>\n",
              "    </tr>\n",
              "    <tr>\n",
              "      <th>4</th>\n",
              "      <td>59</td>\n",
              "      <td>2564</td>\n",
              "      <td>0</td>\n",
              "      <td>0</td>\n",
              "      <td>0.0</td>\n",
              "      <td>0.0</td>\n",
              "    </tr>\n",
              "    <tr>\n",
              "      <th>...</th>\n",
              "      <td>...</td>\n",
              "      <td>...</td>\n",
              "      <td>...</td>\n",
              "      <td>...</td>\n",
              "      <td>...</td>\n",
              "      <td>...</td>\n",
              "    </tr>\n",
              "    <tr>\n",
              "      <th>12240564</th>\n",
              "      <td>21</td>\n",
              "      <td>7635</td>\n",
              "      <td>33</td>\n",
              "      <td>0</td>\n",
              "      <td>0.0</td>\n",
              "      <td>0.0</td>\n",
              "    </tr>\n",
              "    <tr>\n",
              "      <th>12240565</th>\n",
              "      <td>21</td>\n",
              "      <td>7638</td>\n",
              "      <td>33</td>\n",
              "      <td>0</td>\n",
              "      <td>0.0</td>\n",
              "      <td>0.0</td>\n",
              "    </tr>\n",
              "    <tr>\n",
              "      <th>12240566</th>\n",
              "      <td>21</td>\n",
              "      <td>7640</td>\n",
              "      <td>33</td>\n",
              "      <td>0</td>\n",
              "      <td>0.0</td>\n",
              "      <td>0.0</td>\n",
              "    </tr>\n",
              "    <tr>\n",
              "      <th>12240567</th>\n",
              "      <td>21</td>\n",
              "      <td>7632</td>\n",
              "      <td>33</td>\n",
              "      <td>0</td>\n",
              "      <td>0.0</td>\n",
              "      <td>0.0</td>\n",
              "    </tr>\n",
              "    <tr>\n",
              "      <th>12240568</th>\n",
              "      <td>21</td>\n",
              "      <td>7440</td>\n",
              "      <td>33</td>\n",
              "      <td>0</td>\n",
              "      <td>0.0</td>\n",
              "      <td>0.0</td>\n",
              "    </tr>\n",
              "  </tbody>\n",
              "</table>\n",
              "<p>12240569 rows × 6 columns</p>\n",
              "</div>"
            ],
            "text/plain": [
              "          shop_id  item_id  ...  item_price item_cnt_day\n",
              "0              59    22154  ...       999.0          1.0\n",
              "1              59     2552  ...         0.0          0.0\n",
              "2              59     2554  ...         0.0          0.0\n",
              "3              59     2555  ...         0.0          0.0\n",
              "4              59     2564  ...         0.0          0.0\n",
              "...           ...      ...  ...         ...          ...\n",
              "12240564       21     7635  ...         0.0          0.0\n",
              "12240565       21     7638  ...         0.0          0.0\n",
              "12240566       21     7640  ...         0.0          0.0\n",
              "12240567       21     7632  ...         0.0          0.0\n",
              "12240568       21     7440  ...         0.0          0.0\n",
              "\n",
              "[12240569 rows x 6 columns]"
            ]
          },
          "metadata": {
            "tags": []
          },
          "execution_count": 8
        }
      ]
    },
    {
      "cell_type": "markdown",
      "metadata": {
        "id": "r4gPlyaXsBpI"
      },
      "source": [
        "Merging of dataframes"
      ]
    },
    {
      "cell_type": "code",
      "metadata": {
        "id": "yqUjmbswJED0"
      },
      "source": [
        "item_merge = pd.merge(items,item_cat,how='left',on='item_category_id')"
      ],
      "execution_count": null,
      "outputs": []
    },
    {
      "cell_type": "code",
      "metadata": {
        "id": "qKyD9FGBj1V-"
      },
      "source": [
        "merged = pd.merge(new_train, shops, how='left', on='shop_id')"
      ],
      "execution_count": null,
      "outputs": []
    },
    {
      "cell_type": "code",
      "metadata": {
        "id": "7DVssvUKsv_1"
      },
      "source": [
        "merged = pd.merge(merged, item_merge, how='left',on='item_id')\n"
      ],
      "execution_count": null,
      "outputs": []
    },
    {
      "cell_type": "code",
      "metadata": {
        "colab": {
          "base_uri": "https://localhost:8080/",
          "height": 362
        },
        "id": "r-NkwN7xmyfP",
        "outputId": "9aa87af2-1a2c-4e3b-f119-b4e9c00fc3e5"
      },
      "source": [
        "merged.head()"
      ],
      "execution_count": null,
      "outputs": [
        {
          "output_type": "execute_result",
          "data": {
            "text/html": [
              "<div>\n",
              "<style scoped>\n",
              "    .dataframe tbody tr th:only-of-type {\n",
              "        vertical-align: middle;\n",
              "    }\n",
              "\n",
              "    .dataframe tbody tr th {\n",
              "        vertical-align: top;\n",
              "    }\n",
              "\n",
              "    .dataframe thead th {\n",
              "        text-align: right;\n",
              "    }\n",
              "</style>\n",
              "<table border=\"1\" class=\"dataframe\">\n",
              "  <thead>\n",
              "    <tr style=\"text-align: right;\">\n",
              "      <th></th>\n",
              "      <th>shop_id</th>\n",
              "      <th>item_id</th>\n",
              "      <th>date_block_num</th>\n",
              "      <th>date</th>\n",
              "      <th>item_price</th>\n",
              "      <th>item_cnt_day</th>\n",
              "      <th>shop_name</th>\n",
              "      <th>item_name</th>\n",
              "      <th>item_category_id</th>\n",
              "      <th>item_category_name</th>\n",
              "    </tr>\n",
              "  </thead>\n",
              "  <tbody>\n",
              "    <tr>\n",
              "      <th>0</th>\n",
              "      <td>59</td>\n",
              "      <td>22154</td>\n",
              "      <td>0</td>\n",
              "      <td>02.01.2013</td>\n",
              "      <td>999.0</td>\n",
              "      <td>1.0</td>\n",
              "      <td>Ярославль ТЦ \"Альтаир\"</td>\n",
              "      <td>ЯВЛЕНИЕ 2012 (BD)</td>\n",
              "      <td>37</td>\n",
              "      <td>Кино - Blu-Ray</td>\n",
              "    </tr>\n",
              "    <tr>\n",
              "      <th>1</th>\n",
              "      <td>59</td>\n",
              "      <td>2552</td>\n",
              "      <td>0</td>\n",
              "      <td>0</td>\n",
              "      <td>0.0</td>\n",
              "      <td>0.0</td>\n",
              "      <td>Ярославль ТЦ \"Альтаир\"</td>\n",
              "      <td>DEEP PURPLE  The House Of Blue Light  LP</td>\n",
              "      <td>58</td>\n",
              "      <td>Музыка - Винил</td>\n",
              "    </tr>\n",
              "    <tr>\n",
              "      <th>2</th>\n",
              "      <td>59</td>\n",
              "      <td>2554</td>\n",
              "      <td>0</td>\n",
              "      <td>0</td>\n",
              "      <td>0.0</td>\n",
              "      <td>0.0</td>\n",
              "      <td>Ярославль ТЦ \"Альтаир\"</td>\n",
              "      <td>DEEP PURPLE  Who Do You Think We Are  LP</td>\n",
              "      <td>58</td>\n",
              "      <td>Музыка - Винил</td>\n",
              "    </tr>\n",
              "    <tr>\n",
              "      <th>3</th>\n",
              "      <td>59</td>\n",
              "      <td>2555</td>\n",
              "      <td>0</td>\n",
              "      <td>0</td>\n",
              "      <td>0.0</td>\n",
              "      <td>0.0</td>\n",
              "      <td>Ярославль ТЦ \"Альтаир\"</td>\n",
              "      <td>DEEP PURPLE 30 Very Best Of 2CD (Фирм.)</td>\n",
              "      <td>56</td>\n",
              "      <td>Музыка - CD фирменного производства</td>\n",
              "    </tr>\n",
              "    <tr>\n",
              "      <th>4</th>\n",
              "      <td>59</td>\n",
              "      <td>2564</td>\n",
              "      <td>0</td>\n",
              "      <td>0</td>\n",
              "      <td>0.0</td>\n",
              "      <td>0.0</td>\n",
              "      <td>Ярославль ТЦ \"Альтаир\"</td>\n",
              "      <td>DEEP PURPLE Perihelion: Live In Concert DVD (К...</td>\n",
              "      <td>59</td>\n",
              "      <td>Музыка - Музыкальное видео</td>\n",
              "    </tr>\n",
              "  </tbody>\n",
              "</table>\n",
              "</div>"
            ],
            "text/plain": [
              "   shop_id  item_id  ...  item_category_id                   item_category_name\n",
              "0       59    22154  ...                37                       Кино - Blu-Ray\n",
              "1       59     2552  ...                58                       Музыка - Винил\n",
              "2       59     2554  ...                58                       Музыка - Винил\n",
              "3       59     2555  ...                56  Музыка - CD фирменного производства\n",
              "4       59     2564  ...                59           Музыка - Музыкальное видео\n",
              "\n",
              "[5 rows x 10 columns]"
            ]
          },
          "metadata": {
            "tags": []
          },
          "execution_count": 12
        }
      ]
    },
    {
      "cell_type": "markdown",
      "metadata": {
        "id": "j_INmB25YB_w"
      },
      "source": [
        "removing outliers"
      ]
    },
    {
      "cell_type": "code",
      "metadata": {
        "colab": {
          "base_uri": "https://localhost:8080/",
          "height": 300
        },
        "id": "-pzxflWKsdDS",
        "outputId": "5d6acfca-652b-4dbc-b155-9cb36f7bcc0e"
      },
      "source": [
        "merged.describe()"
      ],
      "execution_count": null,
      "outputs": [
        {
          "output_type": "execute_result",
          "data": {
            "text/html": [
              "<div>\n",
              "<style scoped>\n",
              "    .dataframe tbody tr th:only-of-type {\n",
              "        vertical-align: middle;\n",
              "    }\n",
              "\n",
              "    .dataframe tbody tr th {\n",
              "        vertical-align: top;\n",
              "    }\n",
              "\n",
              "    .dataframe thead th {\n",
              "        text-align: right;\n",
              "    }\n",
              "</style>\n",
              "<table border=\"1\" class=\"dataframe\">\n",
              "  <thead>\n",
              "    <tr style=\"text-align: right;\">\n",
              "      <th></th>\n",
              "      <th>shop_id</th>\n",
              "      <th>item_id</th>\n",
              "      <th>date_block_num</th>\n",
              "      <th>item_price</th>\n",
              "      <th>item_cnt_day</th>\n",
              "      <th>item_category_id</th>\n",
              "    </tr>\n",
              "  </thead>\n",
              "  <tbody>\n",
              "    <tr>\n",
              "      <th>count</th>\n",
              "      <td>1.224057e+07</td>\n",
              "      <td>1.224057e+07</td>\n",
              "      <td>1.224057e+07</td>\n",
              "      <td>1.224057e+07</td>\n",
              "      <td>1.224057e+07</td>\n",
              "      <td>1.224057e+07</td>\n",
              "    </tr>\n",
              "    <tr>\n",
              "      <th>mean</th>\n",
              "      <td>3.161502e+01</td>\n",
              "      <td>1.112514e+04</td>\n",
              "      <td>1.491714e+01</td>\n",
              "      <td>2.136670e+02</td>\n",
              "      <td>2.980417e-01</td>\n",
              "      <td>4.418198e+01</td>\n",
              "    </tr>\n",
              "    <tr>\n",
              "      <th>std</th>\n",
              "      <td>1.715315e+01</td>\n",
              "      <td>6.250680e+03</td>\n",
              "      <td>9.473315e+00</td>\n",
              "      <td>9.286336e+02</td>\n",
              "      <td>1.387971e+00</td>\n",
              "      <td>1.556708e+01</td>\n",
              "    </tr>\n",
              "    <tr>\n",
              "      <th>min</th>\n",
              "      <td>2.000000e+00</td>\n",
              "      <td>0.000000e+00</td>\n",
              "      <td>0.000000e+00</td>\n",
              "      <td>-1.000000e+00</td>\n",
              "      <td>-2.200000e+01</td>\n",
              "      <td>0.000000e+00</td>\n",
              "    </tr>\n",
              "    <tr>\n",
              "      <th>25%</th>\n",
              "      <td>1.700000e+01</td>\n",
              "      <td>5.631000e+03</td>\n",
              "      <td>7.000000e+00</td>\n",
              "      <td>0.000000e+00</td>\n",
              "      <td>0.000000e+00</td>\n",
              "      <td>3.700000e+01</td>\n",
              "    </tr>\n",
              "    <tr>\n",
              "      <th>50%</th>\n",
              "      <td>3.100000e+01</td>\n",
              "      <td>1.116000e+04</td>\n",
              "      <td>1.400000e+01</td>\n",
              "      <td>0.000000e+00</td>\n",
              "      <td>0.000000e+00</td>\n",
              "      <td>4.000000e+01</td>\n",
              "    </tr>\n",
              "    <tr>\n",
              "      <th>75%</th>\n",
              "      <td>4.700000e+01</td>\n",
              "      <td>1.647900e+04</td>\n",
              "      <td>2.300000e+01</td>\n",
              "      <td>0.000000e+00</td>\n",
              "      <td>0.000000e+00</td>\n",
              "      <td>5.500000e+01</td>\n",
              "    </tr>\n",
              "    <tr>\n",
              "      <th>max</th>\n",
              "      <td>5.900000e+01</td>\n",
              "      <td>2.216900e+04</td>\n",
              "      <td>3.300000e+01</td>\n",
              "      <td>3.079800e+05</td>\n",
              "      <td>2.169000e+03</td>\n",
              "      <td>8.300000e+01</td>\n",
              "    </tr>\n",
              "  </tbody>\n",
              "</table>\n",
              "</div>"
            ],
            "text/plain": [
              "            shop_id       item_id  ...  item_cnt_day  item_category_id\n",
              "count  1.224057e+07  1.224057e+07  ...  1.224057e+07      1.224057e+07\n",
              "mean   3.161502e+01  1.112514e+04  ...  2.980417e-01      4.418198e+01\n",
              "std    1.715315e+01  6.250680e+03  ...  1.387971e+00      1.556708e+01\n",
              "min    2.000000e+00  0.000000e+00  ... -2.200000e+01      0.000000e+00\n",
              "25%    1.700000e+01  5.631000e+03  ...  0.000000e+00      3.700000e+01\n",
              "50%    3.100000e+01  1.116000e+04  ...  0.000000e+00      4.000000e+01\n",
              "75%    4.700000e+01  1.647900e+04  ...  0.000000e+00      5.500000e+01\n",
              "max    5.900000e+01  2.216900e+04  ...  2.169000e+03      8.300000e+01\n",
              "\n",
              "[8 rows x 6 columns]"
            ]
          },
          "metadata": {
            "tags": []
          },
          "execution_count": 13
        }
      ]
    },
    {
      "cell_type": "code",
      "metadata": {
        "colab": {
          "base_uri": "https://localhost:8080/",
          "height": 369
        },
        "id": "BuWkbY2hsgoO",
        "outputId": "fd7ba803-2de7-4d64-87ea-b5a591f6e977"
      },
      "source": [
        "f, axes = plt.subplots(1,2)\n",
        "axes[0] = sb.boxplot(merged.item_cnt_day, ax=axes[0])\n",
        "axes[1] = sb.boxplot(merged.item_price, ax=axes[1])"
      ],
      "execution_count": null,
      "outputs": [
        {
          "output_type": "stream",
          "text": [
            "/usr/local/lib/python3.7/dist-packages/seaborn/_decorators.py:43: FutureWarning: Pass the following variable as a keyword arg: x. From version 0.12, the only valid positional argument will be `data`, and passing other arguments without an explicit keyword will result in an error or misinterpretation.\n",
            "  FutureWarning\n",
            "/usr/local/lib/python3.7/dist-packages/seaborn/_decorators.py:43: FutureWarning: Pass the following variable as a keyword arg: x. From version 0.12, the only valid positional argument will be `data`, and passing other arguments without an explicit keyword will result in an error or misinterpretation.\n",
            "  FutureWarning\n"
          ],
          "name": "stderr"
        },
        {
          "output_type": "display_data",
          "data": {
            "image/png": "[encoded data removed]",
            "text/plain": [
              "<Figure size 432x288 with 2 Axes>"
            ]
          },
          "metadata": {
            "tags": []
          }
        }
      ]
    },
    {
      "cell_type": "code",
      "metadata": {
        "id": "3uYfb4vWDhu7"
      },
      "source": [
        "condition = ((merged['item_cnt_day']<1000) & (merged['item_price']<100000))\n",
        "\n",
        "df = merged[condition]"
      ],
      "execution_count": null,
      "outputs": []
    },
    {
      "cell_type": "code",
      "metadata": {
        "colab": {
          "base_uri": "https://localhost:8080/",
          "height": 362
        },
        "id": "7l0osqLmoIQw",
        "outputId": "b348bb68-206a-4c18-9c4f-092806e621cf"
      },
      "source": [
        "df.head()"
      ],
      "execution_count": null,
      "outputs": [
        {
          "output_type": "execute_result",
          "data": {
            "text/html": [
              "<div>\n",
              "<style scoped>\n",
              "    .dataframe tbody tr th:only-of-type {\n",
              "        vertical-align: middle;\n",
              "    }\n",
              "\n",
              "    .dataframe tbody tr th {\n",
              "        vertical-align: top;\n",
              "    }\n",
              "\n",
              "    .dataframe thead th {\n",
              "        text-align: right;\n",
              "    }\n",
              "</style>\n",
              "<table border=\"1\" class=\"dataframe\">\n",
              "  <thead>\n",
              "    <tr style=\"text-align: right;\">\n",
              "      <th></th>\n",
              "      <th>shop_id</th>\n",
              "      <th>item_id</th>\n",
              "      <th>date_block_num</th>\n",
              "      <th>date</th>\n",
              "      <th>item_price</th>\n",
              "      <th>item_cnt_day</th>\n",
              "      <th>shop_name</th>\n",
              "      <th>item_name</th>\n",
              "      <th>item_category_id</th>\n",
              "      <th>item_category_name</th>\n",
              "    </tr>\n",
              "  </thead>\n",
              "  <tbody>\n",
              "    <tr>\n",
              "      <th>0</th>\n",
              "      <td>59</td>\n",
              "      <td>22154</td>\n",
              "      <td>0</td>\n",
              "      <td>02.01.2013</td>\n",
              "      <td>999.0</td>\n",
              "      <td>1.0</td>\n",
              "      <td>Ярославль ТЦ \"Альтаир\"</td>\n",
              "      <td>ЯВЛЕНИЕ 2012 (BD)</td>\n",
              "      <td>37</td>\n",
              "      <td>Кино - Blu-Ray</td>\n",
              "    </tr>\n",
              "    <tr>\n",
              "      <th>1</th>\n",
              "      <td>59</td>\n",
              "      <td>2552</td>\n",
              "      <td>0</td>\n",
              "      <td>0</td>\n",
              "      <td>0.0</td>\n",
              "      <td>0.0</td>\n",
              "      <td>Ярославль ТЦ \"Альтаир\"</td>\n",
              "      <td>DEEP PURPLE  The House Of Blue Light  LP</td>\n",
              "      <td>58</td>\n",
              "      <td>Музыка - Винил</td>\n",
              "    </tr>\n",
              "    <tr>\n",
              "      <th>2</th>\n",
              "      <td>59</td>\n",
              "      <td>2554</td>\n",
              "      <td>0</td>\n",
              "      <td>0</td>\n",
              "      <td>0.0</td>\n",
              "      <td>0.0</td>\n",
              "      <td>Ярославль ТЦ \"Альтаир\"</td>\n",
              "      <td>DEEP PURPLE  Who Do You Think We Are  LP</td>\n",
              "      <td>58</td>\n",
              "      <td>Музыка - Винил</td>\n",
              "    </tr>\n",
              "    <tr>\n",
              "      <th>3</th>\n",
              "      <td>59</td>\n",
              "      <td>2555</td>\n",
              "      <td>0</td>\n",
              "      <td>0</td>\n",
              "      <td>0.0</td>\n",
              "      <td>0.0</td>\n",
              "      <td>Ярославль ТЦ \"Альтаир\"</td>\n",
              "      <td>DEEP PURPLE 30 Very Best Of 2CD (Фирм.)</td>\n",
              "      <td>56</td>\n",
              "      <td>Музыка - CD фирменного производства</td>\n",
              "    </tr>\n",
              "    <tr>\n",
              "      <th>4</th>\n",
              "      <td>59</td>\n",
              "      <td>2564</td>\n",
              "      <td>0</td>\n",
              "      <td>0</td>\n",
              "      <td>0.0</td>\n",
              "      <td>0.0</td>\n",
              "      <td>Ярославль ТЦ \"Альтаир\"</td>\n",
              "      <td>DEEP PURPLE Perihelion: Live In Concert DVD (К...</td>\n",
              "      <td>59</td>\n",
              "      <td>Музыка - Музыкальное видео</td>\n",
              "    </tr>\n",
              "  </tbody>\n",
              "</table>\n",
              "</div>"
            ],
            "text/plain": [
              "   shop_id  item_id  ...  item_category_id                   item_category_name\n",
              "0       59    22154  ...                37                       Кино - Blu-Ray\n",
              "1       59     2552  ...                58                       Музыка - Винил\n",
              "2       59     2554  ...                58                       Музыка - Винил\n",
              "3       59     2555  ...                56  Музыка - CD фирменного производства\n",
              "4       59     2564  ...                59           Музыка - Музыкальное видео\n",
              "\n",
              "[5 rows x 10 columns]"
            ]
          },
          "metadata": {
            "tags": []
          },
          "execution_count": 16
        }
      ]
    },
    {
      "cell_type": "markdown",
      "metadata": {
        "id": "oA2R3_rgYGFr"
      },
      "source": [
        "Replacing prices in the dataframe with median price found for each item to account for differences in item prices over time. "
      ]
    },
    {
      "cell_type": "code",
      "metadata": {
        "colab": {
          "base_uri": "https://localhost:8080/",
          "height": 379
        },
        "id": "xpNJUqwsuDBY",
        "outputId": "39849b75-e09d-4171-afc8-77547b15495e"
      },
      "source": [
        "df.loc[(df['item_id'] == 2552)&(df['item_price']>0)].head() ## For example, item 2552 has different prices for these shops"
      ],
      "execution_count": null,
      "outputs": [
        {
          "output_type": "execute_result",
          "data": {
            "text/html": [
              "<div>\n",
              "<style scoped>\n",
              "    .dataframe tbody tr th:only-of-type {\n",
              "        vertical-align: middle;\n",
              "    }\n",
              "\n",
              "    .dataframe tbody tr th {\n",
              "        vertical-align: top;\n",
              "    }\n",
              "\n",
              "    .dataframe thead th {\n",
              "        text-align: right;\n",
              "    }\n",
              "</style>\n",
              "<table border=\"1\" class=\"dataframe\">\n",
              "  <thead>\n",
              "    <tr style=\"text-align: right;\">\n",
              "      <th></th>\n",
              "      <th>shop_id</th>\n",
              "      <th>item_id</th>\n",
              "      <th>date_block_num</th>\n",
              "      <th>date</th>\n",
              "      <th>item_price</th>\n",
              "      <th>item_cnt_day</th>\n",
              "      <th>shop_name</th>\n",
              "      <th>item_name</th>\n",
              "      <th>item_category_id</th>\n",
              "      <th>item_category_name</th>\n",
              "    </tr>\n",
              "  </thead>\n",
              "  <tbody>\n",
              "    <tr>\n",
              "      <th>8909</th>\n",
              "      <td>25</td>\n",
              "      <td>2552</td>\n",
              "      <td>0</td>\n",
              "      <td>03.01.2013</td>\n",
              "      <td>899.0</td>\n",
              "      <td>1.0</td>\n",
              "      <td>Москва ТРК \"Атриум\"</td>\n",
              "      <td>DEEP PURPLE  The House Of Blue Light  LP</td>\n",
              "      <td>58</td>\n",
              "      <td>Музыка - Винил</td>\n",
              "    </tr>\n",
              "    <tr>\n",
              "      <th>8910</th>\n",
              "      <td>25</td>\n",
              "      <td>2552</td>\n",
              "      <td>0</td>\n",
              "      <td>05.01.2013</td>\n",
              "      <td>899.0</td>\n",
              "      <td>-1.0</td>\n",
              "      <td>Москва ТРК \"Атриум\"</td>\n",
              "      <td>DEEP PURPLE  The House Of Blue Light  LP</td>\n",
              "      <td>58</td>\n",
              "      <td>Музыка - Винил</td>\n",
              "    </tr>\n",
              "    <tr>\n",
              "      <th>1457026</th>\n",
              "      <td>6</td>\n",
              "      <td>2552</td>\n",
              "      <td>3</td>\n",
              "      <td>25.04.2013</td>\n",
              "      <td>949.0</td>\n",
              "      <td>1.0</td>\n",
              "      <td>Воронеж (Плехановская, 13)</td>\n",
              "      <td>DEEP PURPLE  The House Of Blue Light  LP</td>\n",
              "      <td>58</td>\n",
              "      <td>Музыка - Винил</td>\n",
              "    </tr>\n",
              "    <tr>\n",
              "      <th>1641312</th>\n",
              "      <td>30</td>\n",
              "      <td>2552</td>\n",
              "      <td>3</td>\n",
              "      <td>25.04.2013</td>\n",
              "      <td>949.0</td>\n",
              "      <td>1.0</td>\n",
              "      <td>Москва ТЦ \"Перловский\"</td>\n",
              "      <td>DEEP PURPLE  The House Of Blue Light  LP</td>\n",
              "      <td>58</td>\n",
              "      <td>Музыка - Винил</td>\n",
              "    </tr>\n",
              "    <tr>\n",
              "      <th>2073900</th>\n",
              "      <td>4</td>\n",
              "      <td>2552</td>\n",
              "      <td>4</td>\n",
              "      <td>24.05.2013</td>\n",
              "      <td>949.0</td>\n",
              "      <td>1.0</td>\n",
              "      <td>Волжский ТЦ \"Волга Молл\"</td>\n",
              "      <td>DEEP PURPLE  The House Of Blue Light  LP</td>\n",
              "      <td>58</td>\n",
              "      <td>Музыка - Винил</td>\n",
              "    </tr>\n",
              "  </tbody>\n",
              "</table>\n",
              "</div>"
            ],
            "text/plain": [
              "         shop_id  item_id  ...  item_category_id item_category_name\n",
              "8909          25     2552  ...                58     Музыка - Винил\n",
              "8910          25     2552  ...                58     Музыка - Винил\n",
              "1457026        6     2552  ...                58     Музыка - Винил\n",
              "1641312       30     2552  ...                58     Музыка - Винил\n",
              "2073900        4     2552  ...                58     Музыка - Винил\n",
              "\n",
              "[5 rows x 10 columns]"
            ]
          },
          "metadata": {
            "tags": []
          },
          "execution_count": 17
        }
      ]
    },
    {
      "cell_type": "code",
      "metadata": {
        "id": "iZt6nBOziQ19"
      },
      "source": [
        "prices = (pd.DataFrame(train.groupby(by=['item_id']).median())) "
      ],
      "execution_count": null,
      "outputs": []
    },
    {
      "cell_type": "code",
      "metadata": {
        "id": "uRkHYuAHoCjm"
      },
      "source": [
        "prices = prices.iloc[:,[2]]"
      ],
      "execution_count": null,
      "outputs": []
    },
    {
      "cell_type": "code",
      "metadata": {
        "id": "yNNxBeEVodUL"
      },
      "source": [
        "prices.reset_index(inplace=True)"
      ],
      "execution_count": null,
      "outputs": []
    },
    {
      "cell_type": "code",
      "metadata": {
        "id": "NBJCs3OzopHn"
      },
      "source": [
        "df2 = pd.merge(df,prices,on='item_id',how='left')"
      ],
      "execution_count": null,
      "outputs": []
    },
    {
      "cell_type": "code",
      "metadata": {
        "id": "X9Zg28BnqCnk"
      },
      "source": [
        "df2.drop(columns='item_price_x',inplace=True)\n",
        "df2.rename(columns={'item_price_y':'item_price'},inplace=True)"
      ],
      "execution_count": null,
      "outputs": []
    },
    {
      "cell_type": "code",
      "metadata": {
        "colab": {
          "base_uri": "https://localhost:8080/",
          "height": 362
        },
        "id": "xCwYxhlro7SM",
        "outputId": "bb7d2242-2e76-4e4c-94b7-b9cb51c3049b"
      },
      "source": [
        "df2.head()"
      ],
      "execution_count": null,
      "outputs": [
        {
          "output_type": "execute_result",
          "data": {
            "text/html": [
              "<div>\n",
              "<style scoped>\n",
              "    .dataframe tbody tr th:only-of-type {\n",
              "        vertical-align: middle;\n",
              "    }\n",
              "\n",
              "    .dataframe tbody tr th {\n",
              "        vertical-align: top;\n",
              "    }\n",
              "\n",
              "    .dataframe thead th {\n",
              "        text-align: right;\n",
              "    }\n",
              "</style>\n",
              "<table border=\"1\" class=\"dataframe\">\n",
              "  <thead>\n",
              "    <tr style=\"text-align: right;\">\n",
              "      <th></th>\n",
              "      <th>shop_id</th>\n",
              "      <th>item_id</th>\n",
              "      <th>date_block_num</th>\n",
              "      <th>date</th>\n",
              "      <th>item_cnt_day</th>\n",
              "      <th>shop_name</th>\n",
              "      <th>item_name</th>\n",
              "      <th>item_category_id</th>\n",
              "      <th>item_category_name</th>\n",
              "      <th>item_price</th>\n",
              "    </tr>\n",
              "  </thead>\n",
              "  <tbody>\n",
              "    <tr>\n",
              "      <th>0</th>\n",
              "      <td>59</td>\n",
              "      <td>22154</td>\n",
              "      <td>0</td>\n",
              "      <td>02.01.2013</td>\n",
              "      <td>1.0</td>\n",
              "      <td>Ярославль ТЦ \"Альтаир\"</td>\n",
              "      <td>ЯВЛЕНИЕ 2012 (BD)</td>\n",
              "      <td>37</td>\n",
              "      <td>Кино - Blu-Ray</td>\n",
              "      <td>999.00</td>\n",
              "    </tr>\n",
              "    <tr>\n",
              "      <th>1</th>\n",
              "      <td>59</td>\n",
              "      <td>2552</td>\n",
              "      <td>0</td>\n",
              "      <td>0</td>\n",
              "      <td>0.0</td>\n",
              "      <td>Ярославль ТЦ \"Альтаир\"</td>\n",
              "      <td>DEEP PURPLE  The House Of Blue Light  LP</td>\n",
              "      <td>58</td>\n",
              "      <td>Музыка - Винил</td>\n",
              "      <td>949.00</td>\n",
              "    </tr>\n",
              "    <tr>\n",
              "      <th>2</th>\n",
              "      <td>59</td>\n",
              "      <td>2554</td>\n",
              "      <td>0</td>\n",
              "      <td>0</td>\n",
              "      <td>0.0</td>\n",
              "      <td>Ярославль ТЦ \"Альтаир\"</td>\n",
              "      <td>DEEP PURPLE  Who Do You Think We Are  LP</td>\n",
              "      <td>58</td>\n",
              "      <td>Музыка - Винил</td>\n",
              "      <td>1709.05</td>\n",
              "    </tr>\n",
              "    <tr>\n",
              "      <th>3</th>\n",
              "      <td>59</td>\n",
              "      <td>2555</td>\n",
              "      <td>0</td>\n",
              "      <td>0</td>\n",
              "      <td>0.0</td>\n",
              "      <td>Ярославль ТЦ \"Альтаир\"</td>\n",
              "      <td>DEEP PURPLE 30 Very Best Of 2CD (Фирм.)</td>\n",
              "      <td>56</td>\n",
              "      <td>Музыка - CD фирменного производства</td>\n",
              "      <td>1099.00</td>\n",
              "    </tr>\n",
              "    <tr>\n",
              "      <th>4</th>\n",
              "      <td>59</td>\n",
              "      <td>2564</td>\n",
              "      <td>0</td>\n",
              "      <td>0</td>\n",
              "      <td>0.0</td>\n",
              "      <td>Ярославль ТЦ \"Альтаир\"</td>\n",
              "      <td>DEEP PURPLE Perihelion: Live In Concert DVD (К...</td>\n",
              "      <td>59</td>\n",
              "      <td>Музыка - Музыкальное видео</td>\n",
              "      <td>349.00</td>\n",
              "    </tr>\n",
              "  </tbody>\n",
              "</table>\n",
              "</div>"
            ],
            "text/plain": [
              "   shop_id  item_id  ...                   item_category_name item_price\n",
              "0       59    22154  ...                       Кино - Blu-Ray     999.00\n",
              "1       59     2552  ...                       Музыка - Винил     949.00\n",
              "2       59     2554  ...                       Музыка - Винил    1709.05\n",
              "3       59     2555  ...  Музыка - CD фирменного производства    1099.00\n",
              "4       59     2564  ...           Музыка - Музыкальное видео     349.00\n",
              "\n",
              "[5 rows x 10 columns]"
            ]
          },
          "metadata": {
            "tags": []
          },
          "execution_count": 23
        }
      ]
    },
    {
      "cell_type": "markdown",
      "metadata": {
        "id": "AKMxMoCUYcmp"
      },
      "source": [
        "Grouping rows to get item count per month, by=list in order to isolate the label "
      ]
    },
    {
      "cell_type": "code",
      "metadata": {
        "id": "mOPIB8dx0Eq_"
      },
      "source": [
        "grp = pd.DataFrame((df2.groupby(by=['date_block_num','shop_id','shop_name','item_id','item_name','item_category_id','item_category_name','item_price'])).sum())"
      ],
      "execution_count": null,
      "outputs": []
    },
    {
      "cell_type": "code",
      "metadata": {
        "id": "BIjT6Hxj_lhO"
      },
      "source": [
        "grp.reset_index(inplace=True)"
      ],
      "execution_count": null,
      "outputs": []
    },
    {
      "cell_type": "code",
      "metadata": {
        "id": "LJOEyG6R9HKG"
      },
      "source": [
        "grp.rename(columns={\"item_cnt_day\":\"item_cnt_month\"},inplace=True)"
      ],
      "execution_count": null,
      "outputs": []
    },
    {
      "cell_type": "markdown",
      "metadata": {
        "id": "HnW5wwYXagb_"
      },
      "source": [
        "clipping values from [0,20]"
      ]
    },
    {
      "cell_type": "code",
      "metadata": {
        "id": "M03QAPI3AAh9"
      },
      "source": [
        "grp.loc[grp['item_cnt_month']>20,['item_cnt_month']] = 20"
      ],
      "execution_count": null,
      "outputs": []
    },
    {
      "cell_type": "code",
      "metadata": {
        "id": "MLHutGjUZzpQ"
      },
      "source": [
        "grp.loc[grp['item_cnt_month']<0, ['item_cnt_month']] = 0"
      ],
      "execution_count": null,
      "outputs": []
    },
    {
      "cell_type": "code",
      "metadata": {
        "colab": {
          "base_uri": "https://localhost:8080/"
        },
        "id": "Qqjz6o07D5l8",
        "outputId": "3a52148c-5dac-4fa7-dfdf-98279b8458cb"
      },
      "source": [
        "print(grp.item_cnt_month.max(), grp.item_cnt_month.min())"
      ],
      "execution_count": null,
      "outputs": [
        {
          "output_type": "stream",
          "text": [
            "20.0 0.0\n"
          ],
          "name": "stdout"
        }
      ]
    },
    {
      "cell_type": "markdown",
      "metadata": {
        "id": "TRgHaJR8uzer"
      },
      "source": [
        "Creating columns containing mean price of each item's assigned category, and the ratio of each item's price against the category mean."
      ]
    },
    {
      "cell_type": "code",
      "metadata": {
        "id": "TWY_qa8fjPBF"
      },
      "source": [
        "prices_cat = pd.merge(item_merge, prices, on='item_id',how='left').drop(columns=['item_name','item_category_name','item_id'])"
      ],
      "execution_count": null,
      "outputs": []
    },
    {
      "cell_type": "code",
      "metadata": {
        "id": "VVxQ9m1hmscK"
      },
      "source": [
        "prices_cat = prices_cat.groupby(by='item_category_id').mean()"
      ],
      "execution_count": null,
      "outputs": []
    },
    {
      "cell_type": "code",
      "metadata": {
        "id": "xMdbKNY3qy4w"
      },
      "source": [
        "prices_cat.rename(columns={'item_price':'cat_mean'},inplace=True)"
      ],
      "execution_count": null,
      "outputs": []
    },
    {
      "cell_type": "code",
      "metadata": {
        "id": "hsRBzYAwcPjv"
      },
      "source": [
        "grp = pd.merge(grp,prices_cat,on='item_category_id',how='left')"
      ],
      "execution_count": null,
      "outputs": []
    },
    {
      "cell_type": "code",
      "metadata": {
        "id": "5kkfykSFol1P"
      },
      "source": [
        "grp['price_ratio'] = grp['item_price']/grp['cat_mean']"
      ],
      "execution_count": null,
      "outputs": []
    },
    {
      "cell_type": "code",
      "metadata": {
        "colab": {
          "base_uri": "https://localhost:8080/"
        },
        "id": "_WKReoSqo0by",
        "outputId": "6ba13406-0800-4004-d87f-254536dcab27"
      },
      "source": [
        "grp.shape"
      ],
      "execution_count": null,
      "outputs": [
        {
          "output_type": "execute_result",
          "data": {
            "text/plain": [
              "(10913848, 11)"
            ]
          },
          "metadata": {
            "tags": []
          },
          "execution_count": 35
        }
      ]
    },
    {
      "cell_type": "markdown",
      "metadata": {
        "id": "ph6Ao_kp5cyX"
      },
      "source": [
        "Adding monthly sales lagged columns, up to last 3 months"
      ]
    },
    {
      "cell_type": "code",
      "metadata": {
        "id": "q9jbkd7napBG"
      },
      "source": [
        "def laggy(df, lags, target):\n",
        "  tmp = df[['date_block_num','shop_id', 'item_id',target]]\n",
        "  for i in lags:\n",
        "    shifted = tmp.copy()\n",
        "    shifted.columns =['date_block_num','shop_id', 'item_id',target+'_lag'+str(i)]\n",
        "    shifted['date_block_num']+=i\n",
        "    df = pd.merge(df,shifted,on=['date_block_num','shop_id', 'item_id'],how='left')\n",
        "    df[target+'_lag'+str(i)] = df[target+'_lag'+str(i)].astype(float)\n",
        "  return df\n"
      ],
      "execution_count": null,
      "outputs": []
    },
    {
      "cell_type": "code",
      "metadata": {
        "id": "Z6zMVrBp2r7i"
      },
      "source": [
        "df = laggy(grp,[1,2,3],'item_cnt_month')"
      ],
      "execution_count": null,
      "outputs": []
    },
    {
      "cell_type": "code",
      "metadata": {
        "colab": {
          "base_uri": "https://localhost:8080/",
          "height": 434
        },
        "id": "RKc4UdLUrfpY",
        "outputId": "12a47269-fd45-49a3-b947-cc8eed920aac"
      },
      "source": [
        "df.head()"
      ],
      "execution_count": null,
      "outputs": [
        {
          "output_type": "execute_result",
          "data": {
            "text/html": [
              "<div>\n",
              "<style scoped>\n",
              "    .dataframe tbody tr th:only-of-type {\n",
              "        vertical-align: middle;\n",
              "    }\n",
              "\n",
              "    .dataframe tbody tr th {\n",
              "        vertical-align: top;\n",
              "    }\n",
              "\n",
              "    .dataframe thead th {\n",
              "        text-align: right;\n",
              "    }\n",
              "</style>\n",
              "<table border=\"1\" class=\"dataframe\">\n",
              "  <thead>\n",
              "    <tr style=\"text-align: right;\">\n",
              "      <th></th>\n",
              "      <th>date_block_num</th>\n",
              "      <th>shop_id</th>\n",
              "      <th>shop_name</th>\n",
              "      <th>item_id</th>\n",
              "      <th>item_name</th>\n",
              "      <th>item_category_id</th>\n",
              "      <th>item_category_name</th>\n",
              "      <th>item_price</th>\n",
              "      <th>item_cnt_month</th>\n",
              "      <th>cat_mean</th>\n",
              "      <th>price_ratio</th>\n",
              "      <th>item_cnt_month_lag1</th>\n",
              "      <th>item_cnt_month_lag2</th>\n",
              "      <th>item_cnt_month_lag3</th>\n",
              "    </tr>\n",
              "  </thead>\n",
              "  <tbody>\n",
              "    <tr>\n",
              "      <th>0</th>\n",
              "      <td>0</td>\n",
              "      <td>2</td>\n",
              "      <td>Адыгея ТЦ \"Мега\"</td>\n",
              "      <td>19</td>\n",
              "      <td>/ЗОЛОТАЯ КОЛЛЕКЦИЯ м/ф-72</td>\n",
              "      <td>40</td>\n",
              "      <td>Кино - DVD</td>\n",
              "      <td>28.0</td>\n",
              "      <td>0.0</td>\n",
              "      <td>217.396749</td>\n",
              "      <td>0.128797</td>\n",
              "      <td>NaN</td>\n",
              "      <td>NaN</td>\n",
              "      <td>NaN</td>\n",
              "    </tr>\n",
              "    <tr>\n",
              "      <th>1</th>\n",
              "      <td>0</td>\n",
              "      <td>2</td>\n",
              "      <td>Адыгея ТЦ \"Мега\"</td>\n",
              "      <td>27</td>\n",
              "      <td>007 Legends [PS3, русская версия]</td>\n",
              "      <td>19</td>\n",
              "      <td>Игры - PS3</td>\n",
              "      <td>1398.0</td>\n",
              "      <td>1.0</td>\n",
              "      <td>1420.332035</td>\n",
              "      <td>0.984277</td>\n",
              "      <td>NaN</td>\n",
              "      <td>NaN</td>\n",
              "      <td>NaN</td>\n",
              "    </tr>\n",
              "    <tr>\n",
              "      <th>2</th>\n",
              "      <td>0</td>\n",
              "      <td>2</td>\n",
              "      <td>Адыгея ТЦ \"Мега\"</td>\n",
              "      <td>28</td>\n",
              "      <td>007 Legends [PС, Jewel, русская версия]</td>\n",
              "      <td>30</td>\n",
              "      <td>Игры PC - Стандартные издания</td>\n",
              "      <td>249.0</td>\n",
              "      <td>0.0</td>\n",
              "      <td>304.077956</td>\n",
              "      <td>0.818869</td>\n",
              "      <td>NaN</td>\n",
              "      <td>NaN</td>\n",
              "      <td>NaN</td>\n",
              "    </tr>\n",
              "    <tr>\n",
              "      <th>3</th>\n",
              "      <td>0</td>\n",
              "      <td>2</td>\n",
              "      <td>Адыгея ТЦ \"Мега\"</td>\n",
              "      <td>29</td>\n",
              "      <td>007 Legends [Xbox 360, русская версия]</td>\n",
              "      <td>23</td>\n",
              "      <td>Игры - XBOX 360</td>\n",
              "      <td>1448.5</td>\n",
              "      <td>0.0</td>\n",
              "      <td>1546.318432</td>\n",
              "      <td>0.936741</td>\n",
              "      <td>NaN</td>\n",
              "      <td>NaN</td>\n",
              "      <td>NaN</td>\n",
              "    </tr>\n",
              "    <tr>\n",
              "      <th>4</th>\n",
              "      <td>0</td>\n",
              "      <td>2</td>\n",
              "      <td>Адыгея ТЦ \"Мега\"</td>\n",
              "      <td>32</td>\n",
              "      <td>1+1</td>\n",
              "      <td>40</td>\n",
              "      <td>Кино - DVD</td>\n",
              "      <td>221.0</td>\n",
              "      <td>0.0</td>\n",
              "      <td>217.396749</td>\n",
              "      <td>1.016575</td>\n",
              "      <td>NaN</td>\n",
              "      <td>NaN</td>\n",
              "      <td>NaN</td>\n",
              "    </tr>\n",
              "  </tbody>\n",
              "</table>\n",
              "</div>"
            ],
            "text/plain": [
              "   date_block_num  shop_id  ... item_cnt_month_lag2  item_cnt_month_lag3\n",
              "0               0        2  ...                 NaN                  NaN\n",
              "1               0        2  ...                 NaN                  NaN\n",
              "2               0        2  ...                 NaN                  NaN\n",
              "3               0        2  ...                 NaN                  NaN\n",
              "4               0        2  ...                 NaN                  NaN\n",
              "\n",
              "[5 rows x 14 columns]"
            ]
          },
          "metadata": {
            "tags": []
          },
          "execution_count": 38
        }
      ]
    },
    {
      "cell_type": "markdown",
      "metadata": {
        "id": "279YIx8wa8xD"
      },
      "source": [
        "Fixing test data"
      ]
    },
    {
      "cell_type": "code",
      "metadata": {
        "colab": {
          "base_uri": "https://localhost:8080/",
          "height": 206
        },
        "id": "SVJcIRwg1F1N",
        "outputId": "9c5b8f67-29ac-4217-abd3-e8470a569d17"
      },
      "source": [
        "test.head()"
      ],
      "execution_count": null,
      "outputs": [
        {
          "output_type": "execute_result",
          "data": {
            "text/html": [
              "<div>\n",
              "<style scoped>\n",
              "    .dataframe tbody tr th:only-of-type {\n",
              "        vertical-align: middle;\n",
              "    }\n",
              "\n",
              "    .dataframe tbody tr th {\n",
              "        vertical-align: top;\n",
              "    }\n",
              "\n",
              "    .dataframe thead th {\n",
              "        text-align: right;\n",
              "    }\n",
              "</style>\n",
              "<table border=\"1\" class=\"dataframe\">\n",
              "  <thead>\n",
              "    <tr style=\"text-align: right;\">\n",
              "      <th></th>\n",
              "      <th>ID</th>\n",
              "      <th>shop_id</th>\n",
              "      <th>item_id</th>\n",
              "    </tr>\n",
              "  </thead>\n",
              "  <tbody>\n",
              "    <tr>\n",
              "      <th>0</th>\n",
              "      <td>0</td>\n",
              "      <td>5</td>\n",
              "      <td>5037</td>\n",
              "    </tr>\n",
              "    <tr>\n",
              "      <th>1</th>\n",
              "      <td>1</td>\n",
              "      <td>5</td>\n",
              "      <td>5320</td>\n",
              "    </tr>\n",
              "    <tr>\n",
              "      <th>2</th>\n",
              "      <td>2</td>\n",
              "      <td>5</td>\n",
              "      <td>5233</td>\n",
              "    </tr>\n",
              "    <tr>\n",
              "      <th>3</th>\n",
              "      <td>3</td>\n",
              "      <td>5</td>\n",
              "      <td>5232</td>\n",
              "    </tr>\n",
              "    <tr>\n",
              "      <th>4</th>\n",
              "      <td>4</td>\n",
              "      <td>5</td>\n",
              "      <td>5268</td>\n",
              "    </tr>\n",
              "  </tbody>\n",
              "</table>\n",
              "</div>"
            ],
            "text/plain": [
              "   ID  shop_id  item_id\n",
              "0   0        5     5037\n",
              "1   1        5     5320\n",
              "2   2        5     5233\n",
              "3   3        5     5232\n",
              "4   4        5     5268"
            ]
          },
          "metadata": {
            "tags": []
          },
          "execution_count": 39
        }
      ]
    },
    {
      "cell_type": "code",
      "metadata": {
        "id": "HA-8ISR93nOb"
      },
      "source": [
        "m1 = pd.merge(test, shops, on = 'shop_id', how = 'left')"
      ],
      "execution_count": null,
      "outputs": []
    },
    {
      "cell_type": "code",
      "metadata": {
        "id": "pJPsuzNr4UcS"
      },
      "source": [
        "m2 = pd.merge(m1, item_merge, on = 'item_id', how = 'left')"
      ],
      "execution_count": null,
      "outputs": []
    },
    {
      "cell_type": "code",
      "metadata": {
        "id": "pjK4sgM64ug1"
      },
      "source": [
        "m3 = pd.merge(m2,prices,on='item_id',how='left')"
      ],
      "execution_count": null,
      "outputs": []
    },
    {
      "cell_type": "code",
      "metadata": {
        "id": "Vl-jLGwm5BRc"
      },
      "source": [
        "m3['date_block_num'] = 34"
      ],
      "execution_count": null,
      "outputs": []
    },
    {
      "cell_type": "markdown",
      "metadata": {
        "id": "bDvAQvJ7v43g"
      },
      "source": [
        "There are some NaN values in item_price due to these items being absent in the train set, perhaps these items have never been sold at all or are new. Replace NaN values with category mean."
      ]
    },
    {
      "cell_type": "code",
      "metadata": {
        "id": "VZUjh2bduAOk"
      },
      "source": [
        "m3 = pd.merge(m3,prices_cat,on='item_category_id',how='left')"
      ],
      "execution_count": null,
      "outputs": []
    },
    {
      "cell_type": "code",
      "metadata": {
        "id": "wpEdncu4TKWZ"
      },
      "source": [
        "block = m3.loc[m3['item_price'].isna(), ['item_price','cat_mean']] "
      ],
      "execution_count": null,
      "outputs": []
    },
    {
      "cell_type": "code",
      "metadata": {
        "id": "khC7d6e0TlTF"
      },
      "source": [
        "m3.loc[m3['item_price'].isna(),['item_price']] = block['cat_mean']"
      ],
      "execution_count": null,
      "outputs": []
    },
    {
      "cell_type": "code",
      "metadata": {
        "id": "vIlELvQOxxJA"
      },
      "source": [
        "m3['price_ratio'] = m3['item_price']/m3['cat_mean']"
      ],
      "execution_count": null,
      "outputs": []
    },
    {
      "cell_type": "code",
      "metadata": {
        "colab": {
          "base_uri": "https://localhost:8080/",
          "height": 345
        },
        "id": "-lBIz54oryU8",
        "outputId": "383d5480-5b86-4a0c-ddc9-ee380ffd1069"
      },
      "source": [
        "m3.head()"
      ],
      "execution_count": null,
      "outputs": [
        {
          "output_type": "execute_result",
          "data": {
            "text/html": [
              "<div>\n",
              "<style scoped>\n",
              "    .dataframe tbody tr th:only-of-type {\n",
              "        vertical-align: middle;\n",
              "    }\n",
              "\n",
              "    .dataframe tbody tr th {\n",
              "        vertical-align: top;\n",
              "    }\n",
              "\n",
              "    .dataframe thead th {\n",
              "        text-align: right;\n",
              "    }\n",
              "</style>\n",
              "<table border=\"1\" class=\"dataframe\">\n",
              "  <thead>\n",
              "    <tr style=\"text-align: right;\">\n",
              "      <th></th>\n",
              "      <th>ID</th>\n",
              "      <th>shop_id</th>\n",
              "      <th>item_id</th>\n",
              "      <th>shop_name</th>\n",
              "      <th>item_name</th>\n",
              "      <th>item_category_id</th>\n",
              "      <th>item_category_name</th>\n",
              "      <th>item_price</th>\n",
              "      <th>date_block_num</th>\n",
              "      <th>cat_mean</th>\n",
              "      <th>price_ratio</th>\n",
              "    </tr>\n",
              "  </thead>\n",
              "  <tbody>\n",
              "    <tr>\n",
              "      <th>0</th>\n",
              "      <td>0</td>\n",
              "      <td>5</td>\n",
              "      <td>5037</td>\n",
              "      <td>Вологда ТРЦ \"Мармелад\"</td>\n",
              "      <td>NHL 15 [PS3, русские субтитры]</td>\n",
              "      <td>19</td>\n",
              "      <td>Игры - PS3</td>\n",
              "      <td>1999.000000</td>\n",
              "      <td>34</td>\n",
              "      <td>1420.332035</td>\n",
              "      <td>1.407417</td>\n",
              "    </tr>\n",
              "    <tr>\n",
              "      <th>1</th>\n",
              "      <td>1</td>\n",
              "      <td>5</td>\n",
              "      <td>5320</td>\n",
              "      <td>Вологда ТРЦ \"Мармелад\"</td>\n",
              "      <td>ONE DIRECTION  Made In The A.M.</td>\n",
              "      <td>55</td>\n",
              "      <td>Музыка - CD локального производства</td>\n",
              "      <td>269.702138</td>\n",
              "      <td>34</td>\n",
              "      <td>269.702138</td>\n",
              "      <td>1.000000</td>\n",
              "    </tr>\n",
              "    <tr>\n",
              "      <th>2</th>\n",
              "      <td>2</td>\n",
              "      <td>5</td>\n",
              "      <td>5233</td>\n",
              "      <td>Вологда ТРЦ \"Мармелад\"</td>\n",
              "      <td>Need for Speed Rivals (Essentials) [PS3, русск...</td>\n",
              "      <td>19</td>\n",
              "      <td>Игры - PS3</td>\n",
              "      <td>599.500000</td>\n",
              "      <td>34</td>\n",
              "      <td>1420.332035</td>\n",
              "      <td>0.422084</td>\n",
              "    </tr>\n",
              "    <tr>\n",
              "      <th>3</th>\n",
              "      <td>3</td>\n",
              "      <td>5</td>\n",
              "      <td>5232</td>\n",
              "      <td>Вологда ТРЦ \"Мармелад\"</td>\n",
              "      <td>Need for Speed Rivals (Classics) [Xbox 360, ру...</td>\n",
              "      <td>23</td>\n",
              "      <td>Игры - XBOX 360</td>\n",
              "      <td>599.500000</td>\n",
              "      <td>34</td>\n",
              "      <td>1546.318432</td>\n",
              "      <td>0.387695</td>\n",
              "    </tr>\n",
              "    <tr>\n",
              "      <th>4</th>\n",
              "      <td>4</td>\n",
              "      <td>5</td>\n",
              "      <td>5268</td>\n",
              "      <td>Вологда ТРЦ \"Мармелад\"</td>\n",
              "      <td>Need for Speed [PS4, русская версия]</td>\n",
              "      <td>20</td>\n",
              "      <td>Игры - PS4</td>\n",
              "      <td>3295.143514</td>\n",
              "      <td>34</td>\n",
              "      <td>3295.143514</td>\n",
              "      <td>1.000000</td>\n",
              "    </tr>\n",
              "  </tbody>\n",
              "</table>\n",
              "</div>"
            ],
            "text/plain": [
              "   ID  shop_id  item_id  ... date_block_num     cat_mean  price_ratio\n",
              "0   0        5     5037  ...             34  1420.332035     1.407417\n",
              "1   1        5     5320  ...             34   269.702138     1.000000\n",
              "2   2        5     5233  ...             34  1420.332035     0.422084\n",
              "3   3        5     5232  ...             34  1546.318432     0.387695\n",
              "4   4        5     5268  ...             34  3295.143514     1.000000\n",
              "\n",
              "[5 rows x 11 columns]"
            ]
          },
          "metadata": {
            "tags": []
          },
          "execution_count": 48
        }
      ]
    },
    {
      "cell_type": "markdown",
      "metadata": {
        "id": "_e0h1Sx2xwjh"
      },
      "source": [
        "Now to create lagged columns for test data, we first need to concatenate test data with last three months of train data before running the lag function. \n",
        "After which, isolate test rows and set index to ID"
      ]
    },
    {
      "cell_type": "code",
      "metadata": {
        "id": "nj9Pgt-yuojc"
      },
      "source": [
        "m4 = pd.concat([df.loc[df['date_block_num']>30],m3],axis=0)"
      ],
      "execution_count": null,
      "outputs": []
    },
    {
      "cell_type": "code",
      "metadata": {
        "id": "zP5ZOgVeweZr"
      },
      "source": [
        "m4.drop(columns=['item_cnt_month_lag1','item_cnt_month_lag2','item_cnt_month_lag3'],inplace=True)"
      ],
      "execution_count": null,
      "outputs": []
    },
    {
      "cell_type": "code",
      "metadata": {
        "id": "ESwN9PiNvJfE"
      },
      "source": [
        "m4 = laggy(m4,[1,2,3],'item_cnt_month')"
      ],
      "execution_count": null,
      "outputs": []
    },
    {
      "cell_type": "code",
      "metadata": {
        "id": "nqfEzSNlwqro"
      },
      "source": [
        "m5 = m4.loc[m4['date_block_num']==34].fillna(0)"
      ],
      "execution_count": null,
      "outputs": []
    },
    {
      "cell_type": "code",
      "metadata": {
        "id": "C3OzAU1zw1U9"
      },
      "source": [
        "m5.drop(columns=['item_cnt_month'],inplace=True)"
      ],
      "execution_count": null,
      "outputs": []
    },
    {
      "cell_type": "code",
      "metadata": {
        "id": "0PwJAXUBxH1X"
      },
      "source": [
        "m5.set_index('ID',inplace=True)"
      ],
      "execution_count": null,
      "outputs": []
    },
    {
      "cell_type": "code",
      "metadata": {
        "colab": {
          "base_uri": "https://localhost:8080/",
          "height": 604
        },
        "id": "DohR5uIzxiIS",
        "outputId": "5da94399-589e-448e-c625-58e3aa7aea79"
      },
      "source": [
        "m5.head()"
      ],
      "execution_count": null,
      "outputs": [
        {
          "output_type": "execute_result",
          "data": {
            "text/html": [
              "<div>\n",
              "<style scoped>\n",
              "    .dataframe tbody tr th:only-of-type {\n",
              "        vertical-align: middle;\n",
              "    }\n",
              "\n",
              "    .dataframe tbody tr th {\n",
              "        vertical-align: top;\n",
              "    }\n",
              "\n",
              "    .dataframe thead th {\n",
              "        text-align: right;\n",
              "    }\n",
              "</style>\n",
              "<table border=\"1\" class=\"dataframe\">\n",
              "  <thead>\n",
              "    <tr style=\"text-align: right;\">\n",
              "      <th></th>\n",
              "      <th>date_block_num</th>\n",
              "      <th>shop_id</th>\n",
              "      <th>shop_name</th>\n",
              "      <th>item_id</th>\n",
              "      <th>item_name</th>\n",
              "      <th>item_category_id</th>\n",
              "      <th>item_category_name</th>\n",
              "      <th>item_price</th>\n",
              "      <th>cat_mean</th>\n",
              "      <th>price_ratio</th>\n",
              "      <th>item_cnt_month_lag1</th>\n",
              "      <th>item_cnt_month_lag2</th>\n",
              "      <th>item_cnt_month_lag3</th>\n",
              "    </tr>\n",
              "    <tr>\n",
              "      <th>ID</th>\n",
              "      <th></th>\n",
              "      <th></th>\n",
              "      <th></th>\n",
              "      <th></th>\n",
              "      <th></th>\n",
              "      <th></th>\n",
              "      <th></th>\n",
              "      <th></th>\n",
              "      <th></th>\n",
              "      <th></th>\n",
              "      <th></th>\n",
              "      <th></th>\n",
              "      <th></th>\n",
              "    </tr>\n",
              "  </thead>\n",
              "  <tbody>\n",
              "    <tr>\n",
              "      <th>0.0</th>\n",
              "      <td>34</td>\n",
              "      <td>5</td>\n",
              "      <td>Вологда ТРЦ \"Мармелад\"</td>\n",
              "      <td>5037</td>\n",
              "      <td>NHL 15 [PS3, русские субтитры]</td>\n",
              "      <td>19</td>\n",
              "      <td>Игры - PS3</td>\n",
              "      <td>1999.000000</td>\n",
              "      <td>1420.332035</td>\n",
              "      <td>1.407417</td>\n",
              "      <td>0.0</td>\n",
              "      <td>1.0</td>\n",
              "      <td>3.0</td>\n",
              "    </tr>\n",
              "    <tr>\n",
              "      <th>1.0</th>\n",
              "      <td>34</td>\n",
              "      <td>5</td>\n",
              "      <td>Вологда ТРЦ \"Мармелад\"</td>\n",
              "      <td>5320</td>\n",
              "      <td>ONE DIRECTION  Made In The A.M.</td>\n",
              "      <td>55</td>\n",
              "      <td>Музыка - CD локального производства</td>\n",
              "      <td>269.702138</td>\n",
              "      <td>269.702138</td>\n",
              "      <td>1.000000</td>\n",
              "      <td>0.0</td>\n",
              "      <td>0.0</td>\n",
              "      <td>0.0</td>\n",
              "    </tr>\n",
              "    <tr>\n",
              "      <th>2.0</th>\n",
              "      <td>34</td>\n",
              "      <td>5</td>\n",
              "      <td>Вологда ТРЦ \"Мармелад\"</td>\n",
              "      <td>5233</td>\n",
              "      <td>Need for Speed Rivals (Essentials) [PS3, русск...</td>\n",
              "      <td>19</td>\n",
              "      <td>Игры - PS3</td>\n",
              "      <td>599.500000</td>\n",
              "      <td>1420.332035</td>\n",
              "      <td>0.422084</td>\n",
              "      <td>1.0</td>\n",
              "      <td>3.0</td>\n",
              "      <td>1.0</td>\n",
              "    </tr>\n",
              "    <tr>\n",
              "      <th>3.0</th>\n",
              "      <td>34</td>\n",
              "      <td>5</td>\n",
              "      <td>Вологда ТРЦ \"Мармелад\"</td>\n",
              "      <td>5232</td>\n",
              "      <td>Need for Speed Rivals (Classics) [Xbox 360, ру...</td>\n",
              "      <td>23</td>\n",
              "      <td>Игры - XBOX 360</td>\n",
              "      <td>599.500000</td>\n",
              "      <td>1546.318432</td>\n",
              "      <td>0.387695</td>\n",
              "      <td>0.0</td>\n",
              "      <td>0.0</td>\n",
              "      <td>1.0</td>\n",
              "    </tr>\n",
              "    <tr>\n",
              "      <th>4.0</th>\n",
              "      <td>34</td>\n",
              "      <td>5</td>\n",
              "      <td>Вологда ТРЦ \"Мармелад\"</td>\n",
              "      <td>5268</td>\n",
              "      <td>Need for Speed [PS4, русская версия]</td>\n",
              "      <td>20</td>\n",
              "      <td>Игры - PS4</td>\n",
              "      <td>3295.143514</td>\n",
              "      <td>3295.143514</td>\n",
              "      <td>1.000000</td>\n",
              "      <td>0.0</td>\n",
              "      <td>0.0</td>\n",
              "      <td>0.0</td>\n",
              "    </tr>\n",
              "  </tbody>\n",
              "</table>\n",
              "</div>"
            ],
            "text/plain": [
              "     date_block_num  shop_id  ... item_cnt_month_lag2  item_cnt_month_lag3\n",
              "ID                            ...                                         \n",
              "0.0              34        5  ...                 1.0                  3.0\n",
              "1.0              34        5  ...                 0.0                  0.0\n",
              "2.0              34        5  ...                 3.0                  1.0\n",
              "3.0              34        5  ...                 0.0                  1.0\n",
              "4.0              34        5  ...                 0.0                  0.0\n",
              "\n",
              "[5 rows x 13 columns]"
            ]
          },
          "metadata": {
            "tags": []
          },
          "execution_count": 55
        }
      ]
    },
    {
      "cell_type": "code",
      "metadata": {
        "id": "gSYQSM6o4bbU"
      },
      "source": [
        "#df.to_csv('train_cleaned.csv',index=False)\n",
        "#m5.to_csv('test_cleaned.csv',index=False)"
      ],
      "execution_count": null,
      "outputs": []
    },
    {
      "cell_type": "markdown",
      "metadata": {
        "id": "yyH3KUYjcpSy"
      },
      "source": [
        "############################################"
      ]
    },
    {
      "cell_type": "markdown",
      "metadata": {
        "id": "gdkoJOesanZ6"
      },
      "source": [
        "###START OF TF NN TRIAL\n",
        "\n",
        "This run achieved an rmse of 1.21935 on Kaggle "
      ]
    },
    {
      "cell_type": "markdown",
      "metadata": {
        "id": "oRkrLbhXw0i7"
      },
      "source": [
        "############################################"
      ]
    },
    {
      "cell_type": "code",
      "metadata": {
        "id": "i8WgqeSr5aiG"
      },
      "source": [
        "df = pd.read_csv('train_cleaned.csv')\n",
        "m5 = pd.read_csv('test_cleaned.csv')"
      ],
      "execution_count": null,
      "outputs": []
    },
    {
      "cell_type": "code",
      "metadata": {
        "id": "mcF4h7zNyT93"
      },
      "source": [
        "df = df.dropna()"
      ],
      "execution_count": 19,
      "outputs": []
    },
    {
      "cell_type": "code",
      "metadata": {
        "colab": {
          "base_uri": "https://localhost:8080/"
        },
        "id": "TNgFngZetDKO",
        "outputId": "69f77d20-0ec2-4e5b-cf1b-0c48225463f5"
      },
      "source": [
        "train_df = df.loc[df['date_block_num']<33] # as data is time series, opt not to use train_test_split\n",
        "test_df = df.loc[df['date_block_num']==33]\n",
        "print(train_df.shape, test_df.shape)"
      ],
      "execution_count": 22,
      "outputs": [
        {
          "output_type": "stream",
          "text": [
            "(6050508, 14) (127551, 14)\n"
          ],
          "name": "stdout"
        }
      ]
    },
    {
      "cell_type": "code",
      "metadata": {
        "id": "fSqmmo0SXAv3"
      },
      "source": [
        "def create_model(my_learning_rate, my_feature_layer):\n",
        "\n",
        "    # Discard any pre-existing version of the model.\n",
        "    model = None\n",
        "\n",
        "    # Most simple tf.keras models are sequential.\n",
        "    model = tf.keras.models.Sequential()\n",
        "\n",
        "    # Add the layer containing the feature columns to the model.\n",
        "    model.add(my_feature_layer)\n",
        "\n",
        "    # Describe the topography of the model. \n",
        "\n",
        "    # Implement L2 regularization in the first hidden layer.\n",
        "    model.add(tf.keras.layers.Dense(units=20, \n",
        "                                  activation='relu',\n",
        "                                  kernel_regularizer=tf.keras.regularizers.l2(0.005),\n",
        "                                  name='Hidden1'))\n",
        "\n",
        "    # Implement L2 regularization in the second hidden layer.\n",
        "    model.add(tf.keras.layers.Dense(units=20, \n",
        "                                  activation='relu', \n",
        "                                  kernel_regularizer=tf.keras.regularizers.l2(0.005),\n",
        "                                  name='Hidden2'))\n",
        "    \n",
        "\n",
        "    model.add(tf.keras.layers.Dropout(0.2))\n",
        "\n",
        "    # Define the output layer.\n",
        "    model.add(tf.keras.layers.Dense(units=1,  \n",
        "                                  name='Output'))                              \n",
        "\n",
        "    model.compile(optimizer=tf.keras.optimizers.Adam(learning_rate=my_learning_rate),\n",
        "                loss=\"mean_squared_error\",\n",
        "                metrics=[tf.keras.metrics.MeanSquaredError()])\n",
        "\n",
        "    return model     \n",
        "\n",
        "def train_model(model, dataset, epochs, label_name, callback,\n",
        "                batch_size=None):\n",
        "    \"\"\"Train the model by feeding it data.\"\"\"\n",
        "\n",
        "    # Split the dataset into features and label.\n",
        "    features = {name:np.array(value) for name, value in dataset.items()}\n",
        "    label = np.array(features.pop(label_name))\n",
        "    history = model.fit(x=features, y=label, batch_size=batch_size,\n",
        "                      epochs=epochs, callbacks=[callback], shuffle=True) \n",
        "\n",
        "    # The list of epochs is stored separately from the rest of history.\n",
        "    epochs = history.epoch\n",
        "\n",
        "    # To track the progression of training, gather a snapshot\n",
        "    # of the model's mean squared error at each epoch. \n",
        "    hist = pd.DataFrame(history.history)\n",
        "    mse = hist[\"mean_squared_error\"]\n",
        "\n",
        "    return epochs, mse\n",
        "\n",
        "# Call the new create_model function and the other (unchanged) functions.\n",
        "\n",
        "# The following variables are the hyperparameters.\n",
        "\n"
      ],
      "execution_count": 23,
      "outputs": []
    },
    {
      "cell_type": "code",
      "metadata": {
        "colab": {
          "base_uri": "https://localhost:8080/"
        },
        "id": "llmjBki8zozg",
        "outputId": "cab582c9-b005-4634-b619-0959f3828d63"
      },
      "source": [
        "df.columns"
      ],
      "execution_count": 24,
      "outputs": [
        {
          "output_type": "execute_result",
          "data": {
            "text/plain": [
              "Index(['date_block_num', 'shop_id', 'shop_name', 'item_id', 'item_name',\n",
              "       'item_category_id', 'item_category_name', 'item_price',\n",
              "       'item_cnt_month', 'cat_mean', 'price_ratio', 'item_cnt_month_lag1',\n",
              "       'item_cnt_month_lag2', 'item_cnt_month_lag3'],\n",
              "      dtype='object')"
            ]
          },
          "metadata": {
            "tags": []
          },
          "execution_count": 24
        }
      ]
    },
    {
      "cell_type": "code",
      "metadata": {
        "id": "qw-aVPqVXBoE"
      },
      "source": [
        "feature_columns = []\n",
        "\n",
        "to_num = ['date_block_num','shop_id','item_id','item_category_id','item_price','cat_mean','price_ratio','item_cnt_month_lag1',\n",
        "       'item_cnt_month_lag2', 'item_cnt_month_lag3']\n",
        "target = \"item_cnt_month\"\n",
        "to_cat = [\"shop_name\", \"item_name\", \"item_category_name\"]\n",
        "\n",
        "for num in to_num:\n",
        "  add = tf.feature_column.numeric_column(num)\n",
        "  feature_columns.append(add)\n",
        "\n",
        "for cat in to_cat:\n",
        "  vector = feature_column.categorical_column_with_vocabulary_list(cat, df[cat].unique())\n",
        "  vector_embedding = feature_column.embedding_column(vector, dimension=12)\n",
        "  feature_columns.append(vector_embedding)\n",
        "\n",
        "\n",
        "# Convert the list of feature columns into a layer that will later be fed into\n",
        "# the model. \n",
        "feature_layer = layers.DenseFeatures(feature_columns)\n",
        "\n"
      ],
      "execution_count": 25,
      "outputs": []
    },
    {
      "cell_type": "code",
      "metadata": {
        "colab": {
          "base_uri": "https://localhost:8080/"
        },
        "id": "kKDy8SFfQPD_",
        "outputId": "86e60058-7bdf-4a6b-f7c5-dc8121a1c0e3"
      },
      "source": [
        "def plot_the_loss_curve(epochs, mse):\n",
        "    \"\"\"Plot a curve of loss vs. epoch.\"\"\"\n",
        "\n",
        "    plt.figure()\n",
        "    plt.xlabel(\"Epoch\")\n",
        "    plt.ylabel(\"Mean Squared Error\")\n",
        "\n",
        "    plt.plot(epochs, mse, label=\"Loss\")\n",
        "    plt.legend()\n",
        "    plt.ylim([mse.min()*0.95, mse.max() * 0.001])\n",
        "    plt.show()  \n",
        "\n",
        "print(\"Defined the plot_the_loss_curve function.\")"
      ],
      "execution_count": 26,
      "outputs": [
        {
          "output_type": "stream",
          "text": [
            "Defined the plot_the_loss_curve function.\n"
          ],
          "name": "stdout"
        }
      ]
    },
    {
      "cell_type": "code",
      "metadata": {
        "colab": {
          "base_uri": "https://localhost:8080/",
          "height": 1000
        },
        "id": "HMj1KECkqGf5",
        "outputId": "f66479d7-5fe3-4da0-e90d-a7d9187a6d79"
      },
      "source": [
        "learning_rate = 0.0005\n",
        "epochs = 100\n",
        "batch_size = 50000\n",
        "callback = tf.keras.callbacks.EarlyStopping(monitor='loss', patience=5, mode='min')\n",
        "\n",
        "label_name = \"item_cnt_month\"\n",
        "\n",
        "# Establish the model's topography.\n",
        "my_model = create_model(learning_rate, feature_layer)\n",
        "\n",
        "# Train the model on the normalized training set.\n",
        "epochs, mse = train_model(my_model, train_df, epochs, label_name, callback, batch_size)\n",
        "plot_the_loss_curve(epochs,mse)\n",
        "test_features = {name:np.array(value) for name, value in test_df.items()}\n",
        "test_label = np.array(test_features.pop(label_name)) # isolate the label\n",
        "print(\"\\n Evaluate the new model against the test set:\")\n",
        "my_model.evaluate(x = test_features, y = test_label, batch_size=batch_size)"
      ],
      "execution_count": 27,
      "outputs": [
        {
          "output_type": "stream",
          "text": [
            "Epoch 1/100\n",
            "WARNING:tensorflow:Layers in a Sequential model should only have a single input tensor, but we receive a <class 'dict'> input: {'date_block_num': <tf.Tensor 'ExpandDims_1:0' shape=(None, 1) dtype=int64>, 'shop_id': <tf.Tensor 'ExpandDims_11:0' shape=(None, 1) dtype=int64>, 'shop_name': <tf.Tensor 'ExpandDims_12:0' shape=(None, 1) dtype=string>, 'item_id': <tf.Tensor 'ExpandDims_7:0' shape=(None, 1) dtype=int64>, 'item_name': <tf.Tensor 'ExpandDims_8:0' shape=(None, 1) dtype=string>, 'item_category_id': <tf.Tensor 'ExpandDims_2:0' shape=(None, 1) dtype=int64>, 'item_category_name': <tf.Tensor 'ExpandDims_3:0' shape=(None, 1) dtype=string>, 'item_price': <tf.Tensor 'ExpandDims_9:0' shape=(None, 1) dtype=float32>, 'cat_mean': <tf.Tensor 'ExpandDims:0' shape=(None, 1) dtype=float32>, 'price_ratio': <tf.Tensor 'ExpandDims_10:0' shape=(None, 1) dtype=float32>, 'item_cnt_month_lag1': <tf.Tensor 'ExpandDims_4:0' shape=(None, 1) dtype=float32>, 'item_cnt_month_lag2': <tf.Tensor 'ExpandDims_5:0' shape=(None, 1) dtype=float32>, 'item_cnt_month_lag3': <tf.Tensor 'ExpandDims_6:0' shape=(None, 1) dtype=float32>}\n",
            "Consider rewriting this model with the Functional API.\n",
            "WARNING:tensorflow:Layers in a Sequential model should only have a single input tensor, but we receive a <class 'dict'> input: {'date_block_num': <tf.Tensor 'ExpandDims_1:0' shape=(None, 1) dtype=int64>, 'shop_id': <tf.Tensor 'ExpandDims_11:0' shape=(None, 1) dtype=int64>, 'shop_name': <tf.Tensor 'ExpandDims_12:0' shape=(None, 1) dtype=string>, 'item_id': <tf.Tensor 'ExpandDims_7:0' shape=(None, 1) dtype=int64>, 'item_name': <tf.Tensor 'ExpandDims_8:0' shape=(None, 1) dtype=string>, 'item_category_id': <tf.Tensor 'ExpandDims_2:0' shape=(None, 1) dtype=int64>, 'item_category_name': <tf.Tensor 'ExpandDims_3:0' shape=(None, 1) dtype=string>, 'item_price': <tf.Tensor 'ExpandDims_9:0' shape=(None, 1) dtype=float32>, 'cat_mean': <tf.Tensor 'ExpandDims:0' shape=(None, 1) dtype=float32>, 'price_ratio': <tf.Tensor 'ExpandDims_10:0' shape=(None, 1) dtype=float32>, 'item_cnt_month_lag1': <tf.Tensor 'ExpandDims_4:0' shape=(None, 1) dtype=float32>, 'item_cnt_month_lag2': <tf.Tensor 'ExpandDims_5:0' shape=(None, 1) dtype=float32>, 'item_cnt_month_lag3': <tf.Tensor 'ExpandDims_6:0' shape=(None, 1) dtype=float32>}\n",
            "Consider rewriting this model with the Functional API.\n",
            "122/122 [==============================] - 41s 285ms/step - loss: 64890.1250 - mean_squared_error: 64889.8789\n",
            "Epoch 2/100\n",
            "122/122 [==============================] - 35s 286ms/step - loss: 3619.3342 - mean_squared_error: 3619.1016\n",
            "Epoch 3/100\n",
            "122/122 [==============================] - 35s 288ms/step - loss: 1761.6754 - mean_squared_error: 1761.4473\n",
            "Epoch 4/100\n",
            "122/122 [==============================] - 35s 285ms/step - loss: 901.8414 - mean_squared_error: 901.6151\n",
            "Epoch 5/100\n",
            "122/122 [==============================] - 35s 286ms/step - loss: 441.1371 - mean_squared_error: 440.9119\n",
            "Epoch 6/100\n",
            "122/122 [==============================] - 35s 285ms/step - loss: 229.0927 - mean_squared_error: 228.8686\n",
            "Epoch 7/100\n",
            "122/122 [==============================] - 35s 287ms/step - loss: 127.6062 - mean_squared_error: 127.3826\n",
            "Epoch 8/100\n",
            "122/122 [==============================] - 35s 287ms/step - loss: 77.6040 - mean_squared_error: 77.3813\n",
            "Epoch 9/100\n",
            "122/122 [==============================] - 35s 285ms/step - loss: 51.8592 - mean_squared_error: 51.6374\n",
            "Epoch 10/100\n",
            "122/122 [==============================] - 35s 286ms/step - loss: 37.1235 - mean_squared_error: 36.9029\n",
            "Epoch 11/100\n",
            "122/122 [==============================] - 35s 286ms/step - loss: 28.2502 - mean_squared_error: 28.0313\n",
            "Epoch 12/100\n",
            "122/122 [==============================] - 35s 288ms/step - loss: 21.6150 - mean_squared_error: 21.3980\n",
            "Epoch 13/100\n",
            "122/122 [==============================] - 35s 286ms/step - loss: 16.4885 - mean_squared_error: 16.2736\n",
            "Epoch 14/100\n",
            "122/122 [==============================] - 35s 287ms/step - loss: 13.2408 - mean_squared_error: 13.0280\n",
            "Epoch 15/100\n",
            "122/122 [==============================] - 35s 286ms/step - loss: 10.2029 - mean_squared_error: 9.9925\n",
            "Epoch 16/100\n",
            "122/122 [==============================] - 35s 287ms/step - loss: 8.2417 - mean_squared_error: 8.0338\n",
            "Epoch 17/100\n",
            "122/122 [==============================] - 35s 283ms/step - loss: 6.6539 - mean_squared_error: 6.4484\n",
            "Epoch 18/100\n",
            "122/122 [==============================] - 35s 284ms/step - loss: 5.4898 - mean_squared_error: 5.2869\n",
            "Epoch 19/100\n",
            "122/122 [==============================] - 36s 290ms/step - loss: 4.5673 - mean_squared_error: 4.3670\n",
            "Epoch 20/100\n",
            "122/122 [==============================] - 35s 285ms/step - loss: 3.9146 - mean_squared_error: 3.7169\n",
            "Epoch 21/100\n",
            "122/122 [==============================] - 35s 287ms/step - loss: 3.3414 - mean_squared_error: 3.1462\n",
            "Epoch 22/100\n",
            "122/122 [==============================] - 35s 288ms/step - loss: 2.8501 - mean_squared_error: 2.6577\n",
            "Epoch 23/100\n",
            "122/122 [==============================] - 35s 285ms/step - loss: 2.4636 - mean_squared_error: 2.2740\n",
            "Epoch 24/100\n",
            "122/122 [==============================] - 35s 285ms/step - loss: 2.1763 - mean_squared_error: 1.9896\n",
            "Epoch 25/100\n",
            "122/122 [==============================] - 35s 284ms/step - loss: 2.0138 - mean_squared_error: 1.8301\n",
            "Epoch 26/100\n",
            "122/122 [==============================] - 35s 287ms/step - loss: 1.8724 - mean_squared_error: 1.6917\n",
            "Epoch 27/100\n",
            "122/122 [==============================] - 35s 284ms/step - loss: 1.7404 - mean_squared_error: 1.5627\n",
            "Epoch 28/100\n",
            "122/122 [==============================] - 35s 285ms/step - loss: 1.6671 - mean_squared_error: 1.4924\n",
            "Epoch 29/100\n",
            "122/122 [==============================] - 35s 287ms/step - loss: 1.6174 - mean_squared_error: 1.4457\n",
            "Epoch 30/100\n",
            "122/122 [==============================] - 35s 286ms/step - loss: 1.5699 - mean_squared_error: 1.4011\n",
            "Epoch 31/100\n",
            "122/122 [==============================] - 35s 286ms/step - loss: 1.5466 - mean_squared_error: 1.3807\n",
            "Epoch 32/100\n",
            "122/122 [==============================] - 35s 286ms/step - loss: 1.5031 - mean_squared_error: 1.3401\n",
            "Epoch 33/100\n",
            "122/122 [==============================] - 35s 286ms/step - loss: 1.4803 - mean_squared_error: 1.3200\n",
            "Epoch 34/100\n",
            "122/122 [==============================] - 35s 286ms/step - loss: 1.4597 - mean_squared_error: 1.3021\n",
            "Epoch 35/100\n",
            "122/122 [==============================] - 35s 286ms/step - loss: 1.4406 - mean_squared_error: 1.2856\n",
            "Epoch 36/100\n",
            "122/122 [==============================] - 36s 290ms/step - loss: 1.4265 - mean_squared_error: 1.2739\n",
            "Epoch 37/100\n",
            "122/122 [==============================] - 35s 285ms/step - loss: 1.4124 - mean_squared_error: 1.2621\n",
            "Epoch 38/100\n",
            "122/122 [==============================] - 35s 287ms/step - loss: 1.4043 - mean_squared_error: 1.2563\n",
            "Epoch 39/100\n",
            "122/122 [==============================] - 35s 285ms/step - loss: 1.3932 - mean_squared_error: 1.2474\n",
            "Epoch 40/100\n",
            "122/122 [==============================] - 35s 288ms/step - loss: 1.3857 - mean_squared_error: 1.2420\n",
            "Epoch 41/100\n",
            "122/122 [==============================] - 35s 288ms/step - loss: 1.3778 - mean_squared_error: 1.2361\n",
            "Epoch 42/100\n",
            "122/122 [==============================] - 35s 285ms/step - loss: 1.3456 - mean_squared_error: 1.2054\n",
            "Epoch 43/100\n",
            "122/122 [==============================] - 35s 287ms/step - loss: 1.3364 - mean_squared_error: 1.1980\n",
            "Epoch 44/100\n",
            "122/122 [==============================] - 35s 283ms/step - loss: 1.3338 - mean_squared_error: 1.1971\n",
            "Epoch 45/100\n",
            "122/122 [==============================] - 35s 289ms/step - loss: 1.3315 - mean_squared_error: 1.1965\n",
            "Epoch 46/100\n",
            "122/122 [==============================] - 36s 289ms/step - loss: 1.3292 - mean_squared_error: 1.1958\n",
            "Epoch 47/100\n",
            "122/122 [==============================] - 35s 286ms/step - loss: 1.3270 - mean_squared_error: 1.1953\n",
            "Epoch 48/100\n",
            "122/122 [==============================] - 35s 287ms/step - loss: 1.3254 - mean_squared_error: 1.1952\n",
            "Epoch 49/100\n",
            "122/122 [==============================] - 35s 288ms/step - loss: 1.3232 - mean_squared_error: 1.1945\n",
            "Epoch 50/100\n",
            "122/122 [==============================] - 35s 287ms/step - loss: 1.3213 - mean_squared_error: 1.1939\n",
            "Epoch 51/100\n",
            "122/122 [==============================] - 35s 287ms/step - loss: 1.3193 - mean_squared_error: 1.1933\n",
            "Epoch 52/100\n",
            "122/122 [==============================] - 35s 288ms/step - loss: 1.3174 - mean_squared_error: 1.1927\n",
            "Epoch 53/100\n",
            "122/122 [==============================] - 35s 285ms/step - loss: 1.3157 - mean_squared_error: 1.1923\n",
            "Epoch 54/100\n",
            "122/122 [==============================] - 35s 285ms/step - loss: 1.3142 - mean_squared_error: 1.1920\n",
            "Epoch 55/100\n",
            "122/122 [==============================] - 35s 285ms/step - loss: 1.3122 - mean_squared_error: 1.1912\n",
            "Epoch 56/100\n",
            "122/122 [==============================] - 35s 287ms/step - loss: 1.3105 - mean_squared_error: 1.1906\n",
            "Epoch 57/100\n",
            "122/122 [==============================] - 35s 286ms/step - loss: 1.3089 - mean_squared_error: 1.1900\n",
            "Epoch 58/100\n",
            "122/122 [==============================] - 35s 285ms/step - loss: 1.3073 - mean_squared_error: 1.1895\n",
            "Epoch 59/100\n",
            "122/122 [==============================] - 35s 286ms/step - loss: 1.3059 - mean_squared_error: 1.1891\n",
            "Epoch 60/100\n",
            "122/122 [==============================] - 35s 286ms/step - loss: 1.3044 - mean_squared_error: 1.1885\n",
            "Epoch 61/100\n",
            "122/122 [==============================] - 35s 286ms/step - loss: 1.3030 - mean_squared_error: 1.1881\n",
            "Epoch 62/100\n",
            "122/122 [==============================] - 35s 285ms/step - loss: 1.3014 - mean_squared_error: 1.1874\n",
            "Epoch 63/100\n",
            "122/122 [==============================] - 36s 290ms/step - loss: 1.2999 - mean_squared_error: 1.1868\n",
            "Epoch 64/100\n",
            "122/122 [==============================] - 35s 287ms/step - loss: 1.2986 - mean_squared_error: 1.1864\n",
            "Epoch 65/100\n",
            "122/122 [==============================] - 35s 287ms/step - loss: 1.2972 - mean_squared_error: 1.1858\n",
            "Epoch 66/100\n",
            "122/122 [==============================] - 35s 287ms/step - loss: 1.2957 - mean_squared_error: 1.1850\n",
            "Epoch 67/100\n",
            "122/122 [==============================] - 35s 288ms/step - loss: 1.2946 - mean_squared_error: 1.1847\n",
            "Epoch 68/100\n",
            "122/122 [==============================] - 35s 287ms/step - loss: 1.2938 - mean_squared_error: 1.1847\n",
            "Epoch 69/100\n",
            "122/122 [==============================] - 35s 284ms/step - loss: 1.2926 - mean_squared_error: 1.1841\n",
            "Epoch 70/100\n",
            "122/122 [==============================] - 36s 289ms/step - loss: 1.2915 - mean_squared_error: 1.1838\n",
            "Epoch 71/100\n",
            "122/122 [==============================] - 35s 286ms/step - loss: 1.2906 - mean_squared_error: 1.1835\n",
            "Epoch 72/100\n",
            "122/122 [==============================] - 35s 287ms/step - loss: 1.2900 - mean_squared_error: 1.1835\n",
            "Epoch 73/100\n",
            "122/122 [==============================] - 35s 287ms/step - loss: 1.2892 - mean_squared_error: 1.1834\n",
            "Epoch 74/100\n",
            "122/122 [==============================] - 35s 286ms/step - loss: 1.2886 - mean_squared_error: 1.1834\n",
            "Epoch 75/100\n",
            "122/122 [==============================] - 35s 286ms/step - loss: 1.2878 - mean_squared_error: 1.1833\n",
            "Epoch 76/100\n",
            "122/122 [==============================] - 35s 288ms/step - loss: 1.2871 - mean_squared_error: 1.1831\n",
            "Epoch 77/100\n",
            "122/122 [==============================] - 35s 288ms/step - loss: 1.2865 - mean_squared_error: 1.1831\n",
            "Epoch 78/100\n",
            "122/122 [==============================] - 35s 287ms/step - loss: 1.2861 - mean_squared_error: 1.1833\n",
            "Epoch 79/100\n",
            "122/122 [==============================] - 36s 288ms/step - loss: 1.2855 - mean_squared_error: 1.1833\n",
            "Epoch 80/100\n",
            "122/122 [==============================] - 35s 288ms/step - loss: 1.2849 - mean_squared_error: 1.1832\n",
            "Epoch 81/100\n",
            "122/122 [==============================] - 35s 287ms/step - loss: 1.2844 - mean_squared_error: 1.1833\n",
            "Epoch 82/100\n",
            "122/122 [==============================] - 36s 290ms/step - loss: 1.2837 - mean_squared_error: 1.1832\n",
            "Epoch 83/100\n",
            "122/122 [==============================] - 36s 289ms/step - loss: 1.2830 - mean_squared_error: 1.1830\n",
            "Epoch 84/100\n",
            "122/122 [==============================] - 36s 293ms/step - loss: 1.2826 - mean_squared_error: 1.1832\n",
            "Epoch 85/100\n",
            "122/122 [==============================] - 36s 292ms/step - loss: 1.2852 - mean_squared_error: 1.1861\n",
            "Epoch 86/100\n",
            "122/122 [==============================] - 36s 292ms/step - loss: 1.2818 - mean_squared_error: 1.1833\n",
            "Epoch 87/100\n",
            "122/122 [==============================] - 36s 289ms/step - loss: 1.2811 - mean_squared_error: 1.1831\n",
            "Epoch 88/100\n",
            "122/122 [==============================] - 36s 289ms/step - loss: 1.2807 - mean_squared_error: 1.1832\n",
            "Epoch 89/100\n",
            "122/122 [==============================] - 36s 290ms/step - loss: 1.2800 - mean_squared_error: 1.1830\n",
            "Epoch 90/100\n",
            "122/122 [==============================] - 36s 291ms/step - loss: 1.2796 - mean_squared_error: 1.1830\n",
            "Epoch 91/100\n",
            "122/122 [==============================] - 36s 290ms/step - loss: 1.2791 - mean_squared_error: 1.1830\n",
            "Epoch 92/100\n",
            "122/122 [==============================] - 36s 292ms/step - loss: 1.2787 - mean_squared_error: 1.1831\n",
            "Epoch 93/100\n",
            "122/122 [==============================] - 36s 289ms/step - loss: 1.2781 - mean_squared_error: 1.1830\n",
            "Epoch 94/100\n",
            "122/122 [==============================] - 36s 289ms/step - loss: 1.2776 - mean_squared_error: 1.1830\n",
            "Epoch 95/100\n",
            "122/122 [==============================] - 36s 289ms/step - loss: 1.2772 - mean_squared_error: 1.1831\n",
            "Epoch 96/100\n",
            "122/122 [==============================] - 36s 290ms/step - loss: 1.2768 - mean_squared_error: 1.1832\n",
            "Epoch 97/100\n",
            "122/122 [==============================] - 36s 290ms/step - loss: 1.2766 - mean_squared_error: 1.1834\n",
            "Epoch 98/100\n",
            "122/122 [==============================] - 35s 289ms/step - loss: 1.2757 - mean_squared_error: 1.1831\n",
            "Epoch 99/100\n",
            "122/122 [==============================] - 35s 288ms/step - loss: 1.2755 - mean_squared_error: 1.1834\n",
            "Epoch 100/100\n",
            "122/122 [==============================] - 35s 289ms/step - loss: 1.2753 - mean_squared_error: 1.1836\n"
          ],
          "name": "stdout"
        },
        {
          "output_type": "display_data",
          "data": {
            "image/png": "[encoded data removed]",
            "text/plain": [
              "<Figure size 432x288 with 1 Axes>"
            ]
          },
          "metadata": {
            "tags": [],
            "needs_background": "light"
          }
        },
        {
          "output_type": "stream",
          "text": [
            "\n",
            " Evaluate the new model against the test set:\n",
            "WARNING:tensorflow:Layers in a Sequential model should only have a single input tensor, but we receive a <class 'dict'> input: {'date_block_num': <tf.Tensor 'ExpandDims_1:0' shape=(None, 1) dtype=int64>, 'shop_id': <tf.Tensor 'ExpandDims_11:0' shape=(None, 1) dtype=int64>, 'shop_name': <tf.Tensor 'ExpandDims_12:0' shape=(None, 1) dtype=string>, 'item_id': <tf.Tensor 'ExpandDims_7:0' shape=(None, 1) dtype=int64>, 'item_name': <tf.Tensor 'ExpandDims_8:0' shape=(None, 1) dtype=string>, 'item_category_id': <tf.Tensor 'ExpandDims_2:0' shape=(None, 1) dtype=int64>, 'item_category_name': <tf.Tensor 'ExpandDims_3:0' shape=(None, 1) dtype=string>, 'item_price': <tf.Tensor 'ExpandDims_9:0' shape=(None, 1) dtype=float32>, 'cat_mean': <tf.Tensor 'ExpandDims:0' shape=(None, 1) dtype=float32>, 'price_ratio': <tf.Tensor 'ExpandDims_10:0' shape=(None, 1) dtype=float32>, 'item_cnt_month_lag1': <tf.Tensor 'ExpandDims_4:0' shape=(None, 1) dtype=float32>, 'item_cnt_month_lag2': <tf.Tensor 'ExpandDims_5:0' shape=(None, 1) dtype=float32>, 'item_cnt_month_lag3': <tf.Tensor 'ExpandDims_6:0' shape=(None, 1) dtype=float32>}\n",
            "Consider rewriting this model with the Functional API.\n",
            "3/3 [==============================] - 1s 58ms/step - loss: 1.1011 - mean_squared_error: 1.0097\n"
          ],
          "name": "stdout"
        },
        {
          "output_type": "execute_result",
          "data": {
            "text/plain": [
              "[1.1011496782302856, 1.0097100734710693]"
            ]
          },
          "metadata": {
            "tags": []
          },
          "execution_count": 27
        }
      ]
    },
    {
      "cell_type": "code",
      "metadata": {
        "id": "0Ox8tv_xOsFY"
      },
      "source": [
        "  final_test = {name:np.array(value) for name, value in m5.items()}"
      ],
      "execution_count": 28,
      "outputs": []
    },
    {
      "cell_type": "code",
      "metadata": {
        "colab": {
          "base_uri": "https://localhost:8080/"
        },
        "id": "QqavLilyRAgV",
        "outputId": "abd47d21-6595-4025-fc20-6888fad50404"
      },
      "source": [
        "submit = pd.DataFrame(data = my_model.predict(x=final_test), columns=['item_cnt_month'])"
      ],
      "execution_count": 29,
      "outputs": [
        {
          "output_type": "stream",
          "text": [
            "WARNING:tensorflow:Layers in a Sequential model should only have a single input tensor, but we receive a <class 'dict'> input: {'date_block_num': <tf.Tensor 'ExpandDims_1:0' shape=(None, 1) dtype=int64>, 'shop_id': <tf.Tensor 'ExpandDims_11:0' shape=(None, 1) dtype=int64>, 'shop_name': <tf.Tensor 'ExpandDims_12:0' shape=(None, 1) dtype=string>, 'item_id': <tf.Tensor 'ExpandDims_7:0' shape=(None, 1) dtype=int64>, 'item_name': <tf.Tensor 'ExpandDims_8:0' shape=(None, 1) dtype=string>, 'item_category_id': <tf.Tensor 'ExpandDims_2:0' shape=(None, 1) dtype=int64>, 'item_category_name': <tf.Tensor 'ExpandDims_3:0' shape=(None, 1) dtype=string>, 'item_price': <tf.Tensor 'ExpandDims_9:0' shape=(None, 1) dtype=float32>, 'cat_mean': <tf.Tensor 'ExpandDims:0' shape=(None, 1) dtype=float32>, 'price_ratio': <tf.Tensor 'ExpandDims_10:0' shape=(None, 1) dtype=float32>, 'item_cnt_month_lag1': <tf.Tensor 'ExpandDims_4:0' shape=(None, 1) dtype=float32>, 'item_cnt_month_lag2': <tf.Tensor 'ExpandDims_5:0' shape=(None, 1) dtype=float32>, 'item_cnt_month_lag3': <tf.Tensor 'ExpandDims_6:0' shape=(None, 1) dtype=float32>}\n",
            "Consider rewriting this model with the Functional API.\n"
          ],
          "name": "stdout"
        }
      ]
    },
    {
      "cell_type": "code",
      "metadata": {
        "id": "J-QqwSknRXxY"
      },
      "source": [
        "submit.loc[(submit['item_cnt_month']<=0),['item_cnt_month']] = 0"
      ],
      "execution_count": 30,
      "outputs": []
    },
    {
      "cell_type": "code",
      "metadata": {
        "id": "K9-uQtqwRa87"
      },
      "source": [
        "submit.reset_index(inplace=True)\n",
        "submit.rename(columns={\"index\":\"ID\"}, inplace=True)"
      ],
      "execution_count": 31,
      "outputs": []
    },
    {
      "cell_type": "code",
      "metadata": {
        "id": "BPq6zl4iXnJA"
      },
      "source": [
        "submit.to_csv(\"submission_nn.csv\", index=False)"
      ],
      "execution_count": 32,
      "outputs": []
    },
    {
      "cell_type": "markdown",
      "metadata": {
        "id": "Zpv9GYl6yGi1"
      },
      "source": [
        "########################################"
      ]
    },
    {
      "cell_type": "markdown",
      "metadata": {
        "id": "ESA9PU_3arkV"
      },
      "source": [
        "### END OF TF NN TRIAL"
      ]
    },
    {
      "cell_type": "markdown",
      "metadata": {
        "id": "rITog9CpEb2D"
      },
      "source": [
        "########################################"
      ]
    },
    {
      "cell_type": "markdown",
      "metadata": {
        "id": "s0xu-jB_EXxM"
      },
      "source": [
        "XGBOOST trial"
      ]
    },
    {
      "cell_type": "markdown",
      "metadata": {
        "id": "1OCMVxbMybuh"
      },
      "source": [
        "Note: Lineup and shape of data and features must be same in both train and test sets, as well as when using predict.\n",
        "\n",
        "Target value will be avg_month for this trial as well. An rmse of 1.05572 was attained on Kaggle."
      ]
    },
    {
      "cell_type": "markdown",
      "metadata": {
        "id": "DWKTK7E1sEE3"
      },
      "source": [
        "###############################################"
      ]
    },
    {
      "cell_type": "code",
      "metadata": {
        "id": "HELsh95X0hdR"
      },
      "source": [
        "df = df.dropna()"
      ],
      "execution_count": 33,
      "outputs": []
    },
    {
      "cell_type": "code",
      "metadata": {
        "id": "ieS0CHC1gV7l"
      },
      "source": [
        "df = df[['date_block_num','shop_id','item_id','item_category_id','item_price','cat_mean','price_ratio','item_cnt_month_lag1',\n",
        "       'item_cnt_month_lag2', 'item_cnt_month_lag3','item_cnt_month']] # only include numeric columns"
      ],
      "execution_count": 34,
      "outputs": []
    },
    {
      "cell_type": "code",
      "metadata": {
        "id": "P1B8pXF0UoN0"
      },
      "source": [
        "import xgboost as xgb"
      ],
      "execution_count": 35,
      "outputs": []
    },
    {
      "cell_type": "code",
      "metadata": {
        "colab": {
          "base_uri": "https://localhost:8080/"
        },
        "id": "4T5auzGWgDaP",
        "outputId": "eb79f5ea-f75e-4ff5-a785-94dc9c82df3c"
      },
      "source": [
        "train_df = df.loc[df['date_block_num']<33] # as data is time series, opt not to use train_test_split\n",
        "test_df = df.loc[df['date_block_num']==33]\n",
        "print(train_df.shape, test_df.shape)"
      ],
      "execution_count": 36,
      "outputs": [
        {
          "output_type": "stream",
          "text": [
            "(6050508, 11) (127551, 11)\n"
          ],
          "name": "stdout"
        }
      ]
    },
    {
      "cell_type": "code",
      "metadata": {
        "id": "GFr711vUA_Uc"
      },
      "source": [
        "xgtrain = train_df.drop(columns='item_cnt_month')"
      ],
      "execution_count": 37,
      "outputs": []
    },
    {
      "cell_type": "code",
      "metadata": {
        "id": "QWzAmEIJQtcn"
      },
      "source": [
        "dtrain = xgb.DMatrix(xgtrain, label=train_df['item_cnt_month'])"
      ],
      "execution_count": 38,
      "outputs": []
    },
    {
      "cell_type": "code",
      "metadata": {
        "id": "mhJYdq_rj3wE"
      },
      "source": [
        "xgtest = test_df.drop(columns='item_cnt_month')"
      ],
      "execution_count": 39,
      "outputs": []
    },
    {
      "cell_type": "code",
      "metadata": {
        "id": "pcfo4xzhTlRb"
      },
      "source": [
        "dtest = xgb.DMatrix(xgtest, label=test_df['item_cnt_month'])"
      ],
      "execution_count": 40,
      "outputs": []
    },
    {
      "cell_type": "code",
      "metadata": {
        "id": "Q1smLLDro5F-"
      },
      "source": [
        "params = {'max_depth':10,'eta':0.5,'lambda':0.2,'eval_metric':'rmse'}"
      ],
      "execution_count": 41,
      "outputs": []
    },
    {
      "cell_type": "code",
      "metadata": {
        "id": "faYhifRFpLH3"
      },
      "source": [
        "evallist = [(dtest, 'eval'), (dtrain, 'train')]"
      ],
      "execution_count": 42,
      "outputs": []
    },
    {
      "cell_type": "code",
      "metadata": {
        "colab": {
          "base_uri": "https://localhost:8080/"
        },
        "id": "4nEuf8HiPttm",
        "outputId": "7eaf5989-a3a7-4695-c85a-352e7b0229b2"
      },
      "source": [
        "num_round=100\n",
        "model = xgb.train(params,dtrain,num_round,evallist, early_stopping_rounds=5)"
      ],
      "execution_count": 43,
      "outputs": [
        {
          "output_type": "stream",
          "text": [
            "[13:19:15] WARNING: /workspace/src/learner.cc:686: Tree method is automatically selected to be 'approx' for faster speed. To use old behavior (exact greedy algorithm on single machine), set tree_method to 'exact'.\n",
            "[0]\teval-rmse:0.799543\ttrain-rmse:0.853116\n",
            "Multiple eval metrics have been passed: 'train-rmse' will be used for early stopping.\n",
            "\n",
            "Will train until train-rmse hasn't improved in 5 rounds.\n",
            "[1]\teval-rmse:0.73366\ttrain-rmse:0.758572\n",
            "[2]\teval-rmse:0.720457\ttrain-rmse:0.730196\n",
            "[3]\teval-rmse:0.717773\ttrain-rmse:0.716988\n",
            "[4]\teval-rmse:0.719922\ttrain-rmse:0.705465\n",
            "[5]\teval-rmse:0.722484\ttrain-rmse:0.698339\n",
            "[6]\teval-rmse:0.722855\ttrain-rmse:0.691598\n",
            "[7]\teval-rmse:0.723707\ttrain-rmse:0.687724\n",
            "[8]\teval-rmse:0.727324\ttrain-rmse:0.683162\n",
            "[9]\teval-rmse:0.729974\ttrain-rmse:0.680346\n",
            "[10]\teval-rmse:0.729137\ttrain-rmse:0.677048\n",
            "[11]\teval-rmse:0.727439\ttrain-rmse:0.67285\n",
            "[12]\teval-rmse:0.727062\ttrain-rmse:0.670129\n",
            "[13]\teval-rmse:0.734051\ttrain-rmse:0.667044\n",
            "[14]\teval-rmse:0.733101\ttrain-rmse:0.664809\n",
            "[15]\teval-rmse:0.735574\ttrain-rmse:0.660887\n",
            "[16]\teval-rmse:0.735846\ttrain-rmse:0.658129\n",
            "[17]\teval-rmse:0.737439\ttrain-rmse:0.655151\n",
            "[18]\teval-rmse:0.738287\ttrain-rmse:0.652451\n",
            "[19]\teval-rmse:0.738496\ttrain-rmse:0.651274\n",
            "[20]\teval-rmse:0.738896\ttrain-rmse:0.64972\n",
            "[21]\teval-rmse:0.739761\ttrain-rmse:0.647896\n",
            "[22]\teval-rmse:0.741445\ttrain-rmse:0.64556\n",
            "[23]\teval-rmse:0.741571\ttrain-rmse:0.644626\n",
            "[24]\teval-rmse:0.740955\ttrain-rmse:0.642435\n",
            "[25]\teval-rmse:0.741602\ttrain-rmse:0.640148\n",
            "[26]\teval-rmse:0.743518\ttrain-rmse:0.637547\n",
            "[27]\teval-rmse:0.743257\ttrain-rmse:0.635946\n",
            "[28]\teval-rmse:0.745149\ttrain-rmse:0.634332\n",
            "[29]\teval-rmse:0.746133\ttrain-rmse:0.632949\n",
            "[30]\teval-rmse:0.745603\ttrain-rmse:0.631659\n",
            "[31]\teval-rmse:0.746434\ttrain-rmse:0.629393\n",
            "[32]\teval-rmse:0.751835\ttrain-rmse:0.628681\n",
            "[33]\teval-rmse:0.751709\ttrain-rmse:0.6276\n",
            "[34]\teval-rmse:0.752921\ttrain-rmse:0.626458\n",
            "[35]\teval-rmse:0.753231\ttrain-rmse:0.624528\n",
            "[36]\teval-rmse:0.75356\ttrain-rmse:0.623208\n",
            "[37]\teval-rmse:0.754738\ttrain-rmse:0.621751\n",
            "[38]\teval-rmse:0.754727\ttrain-rmse:0.620336\n",
            "[39]\teval-rmse:0.755085\ttrain-rmse:0.619148\n",
            "[40]\teval-rmse:0.756087\ttrain-rmse:0.61764\n",
            "[41]\teval-rmse:0.75616\ttrain-rmse:0.616939\n",
            "[42]\teval-rmse:0.756887\ttrain-rmse:0.615238\n",
            "[43]\teval-rmse:0.757584\ttrain-rmse:0.613951\n",
            "[44]\teval-rmse:0.761696\ttrain-rmse:0.612588\n",
            "[45]\teval-rmse:0.761628\ttrain-rmse:0.611476\n",
            "[46]\teval-rmse:0.761605\ttrain-rmse:0.610649\n",
            "[47]\teval-rmse:0.761743\ttrain-rmse:0.609216\n",
            "[48]\teval-rmse:0.761605\ttrain-rmse:0.608553\n",
            "[49]\teval-rmse:0.762485\ttrain-rmse:0.607234\n",
            "[50]\teval-rmse:0.763386\ttrain-rmse:0.605788\n",
            "[51]\teval-rmse:0.764001\ttrain-rmse:0.604304\n",
            "[52]\teval-rmse:0.764679\ttrain-rmse:0.603018\n",
            "[53]\teval-rmse:0.764922\ttrain-rmse:0.602006\n",
            "[54]\teval-rmse:0.763282\ttrain-rmse:0.601281\n",
            "[55]\teval-rmse:0.764455\ttrain-rmse:0.600449\n",
            "[56]\teval-rmse:0.765823\ttrain-rmse:0.599413\n",
            "[57]\teval-rmse:0.76664\ttrain-rmse:0.59829\n",
            "[58]\teval-rmse:0.766512\ttrain-rmse:0.597262\n",
            "[59]\teval-rmse:0.767217\ttrain-rmse:0.596162\n",
            "[60]\teval-rmse:0.767581\ttrain-rmse:0.59533\n",
            "[61]\teval-rmse:0.768635\ttrain-rmse:0.593992\n",
            "[62]\teval-rmse:0.76862\ttrain-rmse:0.593246\n",
            "[63]\teval-rmse:0.768957\ttrain-rmse:0.592485\n",
            "[64]\teval-rmse:0.769573\ttrain-rmse:0.591307\n",
            "[65]\teval-rmse:0.769898\ttrain-rmse:0.590343\n",
            "[66]\teval-rmse:0.77003\ttrain-rmse:0.589714\n",
            "[67]\teval-rmse:0.770397\ttrain-rmse:0.589082\n",
            "[68]\teval-rmse:0.770469\ttrain-rmse:0.588415\n",
            "[69]\teval-rmse:0.771388\ttrain-rmse:0.587605\n",
            "[70]\teval-rmse:0.771497\ttrain-rmse:0.58671\n",
            "[71]\teval-rmse:0.771177\ttrain-rmse:0.585966\n",
            "[72]\teval-rmse:0.770963\ttrain-rmse:0.585111\n",
            "[73]\teval-rmse:0.771674\ttrain-rmse:0.584228\n",
            "[74]\teval-rmse:0.77184\ttrain-rmse:0.583441\n",
            "[75]\teval-rmse:0.771916\ttrain-rmse:0.582618\n",
            "[76]\teval-rmse:0.772394\ttrain-rmse:0.582085\n",
            "[77]\teval-rmse:0.772575\ttrain-rmse:0.581188\n",
            "[78]\teval-rmse:0.772848\ttrain-rmse:0.580643\n",
            "[79]\teval-rmse:0.773746\ttrain-rmse:0.58\n",
            "[80]\teval-rmse:0.774003\ttrain-rmse:0.579426\n",
            "[81]\teval-rmse:0.774244\ttrain-rmse:0.578916\n",
            "[82]\teval-rmse:0.774277\ttrain-rmse:0.578169\n",
            "[83]\teval-rmse:0.774236\ttrain-rmse:0.577698\n",
            "[84]\teval-rmse:0.773941\ttrain-rmse:0.576493\n",
            "[85]\teval-rmse:0.774466\ttrain-rmse:0.575733\n",
            "[86]\teval-rmse:0.774641\ttrain-rmse:0.574938\n",
            "[87]\teval-rmse:0.775213\ttrain-rmse:0.57429\n",
            "[88]\teval-rmse:0.775073\ttrain-rmse:0.573862\n",
            "[89]\teval-rmse:0.775663\ttrain-rmse:0.57317\n",
            "[90]\teval-rmse:0.77562\ttrain-rmse:0.572776\n",
            "[91]\teval-rmse:0.775759\ttrain-rmse:0.572156\n",
            "[92]\teval-rmse:0.774215\ttrain-rmse:0.571469\n",
            "[93]\teval-rmse:0.774973\ttrain-rmse:0.570888\n",
            "[94]\teval-rmse:0.774912\ttrain-rmse:0.570534\n",
            "[95]\teval-rmse:0.774979\ttrain-rmse:0.570053\n",
            "[96]\teval-rmse:0.775797\ttrain-rmse:0.568853\n",
            "[97]\teval-rmse:0.776005\ttrain-rmse:0.568146\n",
            "[98]\teval-rmse:0.775768\ttrain-rmse:0.567419\n",
            "[99]\teval-rmse:0.776524\ttrain-rmse:0.56708\n"
          ],
          "name": "stdout"
        }
      ]
    },
    {
      "cell_type": "code",
      "metadata": {
        "id": "JMgkFaSSEILJ"
      },
      "source": [
        "testdata = m5[['date_block_num','shop_id','item_id','item_category_id','item_price','cat_mean','price_ratio','item_cnt_month_lag1',\n",
        "       'item_cnt_month_lag2', 'item_cnt_month_lag3']]"
      ],
      "execution_count": 44,
      "outputs": []
    },
    {
      "cell_type": "code",
      "metadata": {
        "id": "1ZbPUAlmq3hR"
      },
      "source": [
        "final = xgb.DMatrix(testdata)"
      ],
      "execution_count": 45,
      "outputs": []
    },
    {
      "cell_type": "code",
      "metadata": {
        "id": "hdgIfgLRrGAQ"
      },
      "source": [
        "predicted = model.predict(final)"
      ],
      "execution_count": 46,
      "outputs": []
    },
    {
      "cell_type": "code",
      "metadata": {
        "id": "EUP96RelERVd"
      },
      "source": [
        "submit = pd.DataFrame(data=predicted, columns = ['item_cnt_month'])"
      ],
      "execution_count": 47,
      "outputs": []
    },
    {
      "cell_type": "code",
      "metadata": {
        "id": "UY2wkp0KrOnU"
      },
      "source": [
        "submit.loc[submit['item_cnt_month']<=0,['item_cnt_month']] = 0\n",
        "submit.loc[submit['item_cnt_month']>20,['item_cnt_month']] = 20"
      ],
      "execution_count": 48,
      "outputs": []
    },
    {
      "cell_type": "code",
      "metadata": {
        "id": "7GQB7Kyq5l_n",
        "colab": {
          "base_uri": "https://localhost:8080/"
        },
        "outputId": "37958b08-a21e-49a9-d021-d788284fa1cf"
      },
      "source": [
        "model.get_score(importance_type='weight')"
      ],
      "execution_count": 49,
      "outputs": [
        {
          "output_type": "execute_result",
          "data": {
            "text/plain": [
              "{'cat_mean': 3022,\n",
              " 'date_block_num': 15853,\n",
              " 'item_category_id': 4848,\n",
              " 'item_cnt_month_lag1': 9051,\n",
              " 'item_cnt_month_lag2': 8891,\n",
              " 'item_cnt_month_lag3': 8853,\n",
              " 'item_id': 8729,\n",
              " 'item_price': 5829,\n",
              " 'price_ratio': 5796,\n",
              " 'shop_id': 12582}"
            ]
          },
          "metadata": {
            "tags": []
          },
          "execution_count": 49
        }
      ]
    },
    {
      "cell_type": "code",
      "metadata": {
        "id": "0YIbErXVE5hm"
      },
      "source": [
        "(submit.reset_index().rename(columns={'index':'ID'})).to_csv('submission_xg.csv',index=False)"
      ],
      "execution_count": 50,
      "outputs": []
    },
    {
      "cell_type": "code",
      "metadata": {
        "id": "1H0CYA9jeLyz"
      },
      "source": [
        ""
      ],
      "execution_count": null,
      "outputs": []
    }
  ]
}