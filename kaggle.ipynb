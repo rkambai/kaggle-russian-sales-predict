{
  "nbformat": 4,
  "nbformat_minor": 0,
  "metadata": {
    "colab": {
      "name": "kaggle.ipynb",
      "provenance": [],
      "collapsed_sections": []
    },
    "kernelspec": {
      "display_name": "Python 3",
      "name": "python3"
    },
    "language_info": {
      "name": "python"
    }
  },
  "cells": [
    {
      "cell_type": "code",
      "metadata": {
        "colab": {
          "base_uri": "https://localhost:8080/"
        },
        "id": "eVf1Dk0KFvWL",
        "outputId": "a04fe8ef-84c4-45f1-8664-50937783163d"
      },
      "source": [
        "from google.colab import drive\n",
        "drive.mount('/content/drive')"
      ],
      "execution_count": 1,
      "outputs": [
        {
          "output_type": "stream",
          "text": [
            "Mounted at /content/drive\n"
          ],
          "name": "stdout"
        }
      ]
    },
    {
      "cell_type": "code",
      "metadata": {
        "id": "Va8UihxTHlrk"
      },
      "source": [
        "import os\n",
        "os.chdir(\"/content/drive/MyDrive/kaggle/\")"
      ],
      "execution_count": 2,
      "outputs": []
    },
    {
      "cell_type": "code",
      "metadata": {
        "id": "ssbzH3cjC7TI"
      },
      "source": [
        "import pandas as pd\n",
        "import numpy as np\n",
        "import seaborn as sb\n",
        "import matplotlib.pyplot as plt\n",
        "import statistics\n",
        "\n",
        "import tensorflow as tf\n",
        "from tensorflow import feature_column\n",
        "from tensorflow.keras import layers\n",
        "from tensorflow.keras import callbacks\n",
        "\n",
        "from sklearn.feature_extraction.text import HashingVectorizer\n",
        "from sklearn.model_selection import train_test_split"
      ],
      "execution_count": 3,
      "outputs": []
    },
    {
      "cell_type": "code",
      "metadata": {
        "id": "t7B4VBwiEXEM"
      },
      "source": [
        "train, test, items, item_cat, shops, sample = pd.read_csv(\"sales_train.csv\"), pd.read_csv(\"test.csv\"),pd.read_csv(\"items.csv\"), pd.read_csv(\"item_categories.csv\"),pd.read_csv(\"shops.csv\"),pd.read_csv('sample_submission.csv')"
      ],
      "execution_count": 4,
      "outputs": []
    },
    {
      "cell_type": "markdown",
      "metadata": {
        "id": "L8mtcKjXruJj"
      },
      "source": [
        "Some shops have repeated entries, change them to constant value and then dropping duplicate rows"
      ]
    },
    {
      "cell_type": "code",
      "metadata": {
        "id": "xUvH3rjITkFC"
      },
      "source": [
        "train.loc[train.shop_id == 0, 'shop_id'] = 57\n",
        "test.loc[test.shop_id == 0, 'shop_id'] = 57\n",
        "train.loc[train.shop_id == 1, 'shop_id'] = 58\n",
        "test.loc[test.shop_id == 1, 'shop_id'] = 58\n",
        "train.loc[train.shop_id == 10, 'shop_id'] = 11\n",
        "test.loc[test.shop_id == 10, 'shop_id'] = 11"
      ],
      "execution_count": 5,
      "outputs": []
    },
    {
      "cell_type": "code",
      "metadata": {
        "id": "fLKmGzwpYByh"
      },
      "source": [
        "train.drop_duplicates(inplace=True)"
      ],
      "execution_count": 6,
      "outputs": []
    },
    {
      "cell_type": "markdown",
      "metadata": {
        "id": "MJALjvkKsINq"
      },
      "source": [
        "Define function to split date column into 3 new columns -> day, month, year"
      ]
    },
    {
      "cell_type": "code",
      "metadata": {
        "id": "Uyo-yGnZLDny"
      },
      "source": [
        "def timesplit(df, separator): ## separator is what separates day, month and year syntactically\n",
        "    df['Year']=[d.split(separator)[2] for d in df.date]\n",
        "    df['Year'] = df['Year'].astype(int)\n",
        "    df['Month']=[d.split(separator)[1] for d in df.date]\n",
        "    df['Month'] = df['Month'].astype(int)\n",
        "    df['Day']=[d.split(separator)[0] for d in df.date]\n",
        "    df['Day'] = df['Day'].astype(int)"
      ],
      "execution_count": 7,
      "outputs": []
    },
    {
      "cell_type": "code",
      "metadata": {
        "id": "7OXB8ZhWNLuk"
      },
      "source": [
        "timesplit(train,\".\")"
      ],
      "execution_count": 8,
      "outputs": []
    },
    {
      "cell_type": "markdown",
      "metadata": {
        "id": "r4gPlyaXsBpI"
      },
      "source": [
        "Merging of dataframes"
      ]
    },
    {
      "cell_type": "code",
      "metadata": {
        "id": "yqUjmbswJED0"
      },
      "source": [
        "item_merge = pd.merge(items,item_cat,how='left',on='item_category_id')"
      ],
      "execution_count": 9,
      "outputs": []
    },
    {
      "cell_type": "code",
      "metadata": {
        "id": "qKyD9FGBj1V-"
      },
      "source": [
        "merged = pd.merge(train, shops, how='left', on='shop_id')"
      ],
      "execution_count": 10,
      "outputs": []
    },
    {
      "cell_type": "code",
      "metadata": {
        "id": "7DVssvUKsv_1"
      },
      "source": [
        "merged = pd.merge(merged, item_merge, how='left',on='item_id')\n"
      ],
      "execution_count": 11,
      "outputs": []
    },
    {
      "cell_type": "markdown",
      "metadata": {
        "id": "j_INmB25YB_w"
      },
      "source": [
        "removing outliers"
      ]
    },
    {
      "cell_type": "code",
      "metadata": {
        "colab": {
          "base_uri": "https://localhost:8080/",
          "height": 300
        },
        "id": "-pzxflWKsdDS",
        "outputId": "e7c5b64f-2b6c-427b-b954-6ea7b220d869"
      },
      "source": [
        "merged.describe()"
      ],
      "execution_count": 12,
      "outputs": [
        {
          "output_type": "execute_result",
          "data": {
            "text/html": [
              "<div>\n",
              "<style scoped>\n",
              "    .dataframe tbody tr th:only-of-type {\n",
              "        vertical-align: middle;\n",
              "    }\n",
              "\n",
              "    .dataframe tbody tr th {\n",
              "        vertical-align: top;\n",
              "    }\n",
              "\n",
              "    .dataframe thead th {\n",
              "        text-align: right;\n",
              "    }\n",
              "</style>\n",
              "<table border=\"1\" class=\"dataframe\">\n",
              "  <thead>\n",
              "    <tr style=\"text-align: right;\">\n",
              "      <th></th>\n",
              "      <th>date_block_num</th>\n",
              "      <th>shop_id</th>\n",
              "      <th>item_id</th>\n",
              "      <th>item_price</th>\n",
              "      <th>item_cnt_day</th>\n",
              "      <th>Year</th>\n",
              "      <th>Month</th>\n",
              "      <th>Day</th>\n",
              "      <th>item_category_id</th>\n",
              "    </tr>\n",
              "  </thead>\n",
              "  <tbody>\n",
              "    <tr>\n",
              "      <th>count</th>\n",
              "      <td>2.935843e+06</td>\n",
              "      <td>2.935843e+06</td>\n",
              "      <td>2.935843e+06</td>\n",
              "      <td>2.935843e+06</td>\n",
              "      <td>2.935843e+06</td>\n",
              "      <td>2.935843e+06</td>\n",
              "      <td>2.935843e+06</td>\n",
              "      <td>2.935843e+06</td>\n",
              "      <td>2.935843e+06</td>\n",
              "    </tr>\n",
              "    <tr>\n",
              "      <th>mean</th>\n",
              "      <td>1.456991e+01</td>\n",
              "      <td>3.331062e+01</td>\n",
              "      <td>1.019723e+04</td>\n",
              "      <td>8.908535e+02</td>\n",
              "      <td>1.242641e+00</td>\n",
              "      <td>2.013777e+03</td>\n",
              "      <td>6.247719e+00</td>\n",
              "      <td>1.585267e+01</td>\n",
              "      <td>4.000141e+01</td>\n",
              "    </tr>\n",
              "    <tr>\n",
              "      <th>std</th>\n",
              "      <td>9.422992e+00</td>\n",
              "      <td>1.613680e+01</td>\n",
              "      <td>6.324293e+03</td>\n",
              "      <td>1.729801e+03</td>\n",
              "      <td>2.618837e+00</td>\n",
              "      <td>7.684796e-01</td>\n",
              "      <td>3.536219e+00</td>\n",
              "      <td>8.923479e+00</td>\n",
              "      <td>1.710076e+01</td>\n",
              "    </tr>\n",
              "    <tr>\n",
              "      <th>min</th>\n",
              "      <td>0.000000e+00</td>\n",
              "      <td>2.000000e+00</td>\n",
              "      <td>0.000000e+00</td>\n",
              "      <td>-1.000000e+00</td>\n",
              "      <td>-2.200000e+01</td>\n",
              "      <td>2.013000e+03</td>\n",
              "      <td>1.000000e+00</td>\n",
              "      <td>1.000000e+00</td>\n",
              "      <td>0.000000e+00</td>\n",
              "    </tr>\n",
              "    <tr>\n",
              "      <th>25%</th>\n",
              "      <td>7.000000e+00</td>\n",
              "      <td>2.200000e+01</td>\n",
              "      <td>4.476000e+03</td>\n",
              "      <td>2.490000e+02</td>\n",
              "      <td>1.000000e+00</td>\n",
              "      <td>2.013000e+03</td>\n",
              "      <td>3.000000e+00</td>\n",
              "      <td>8.000000e+00</td>\n",
              "      <td>2.800000e+01</td>\n",
              "    </tr>\n",
              "    <tr>\n",
              "      <th>50%</th>\n",
              "      <td>1.400000e+01</td>\n",
              "      <td>3.100000e+01</td>\n",
              "      <td>9.343000e+03</td>\n",
              "      <td>3.990000e+02</td>\n",
              "      <td>1.000000e+00</td>\n",
              "      <td>2.014000e+03</td>\n",
              "      <td>6.000000e+00</td>\n",
              "      <td>1.600000e+01</td>\n",
              "      <td>4.000000e+01</td>\n",
              "    </tr>\n",
              "    <tr>\n",
              "      <th>75%</th>\n",
              "      <td>2.300000e+01</td>\n",
              "      <td>4.800000e+01</td>\n",
              "      <td>1.568400e+04</td>\n",
              "      <td>9.990000e+02</td>\n",
              "      <td>1.000000e+00</td>\n",
              "      <td>2.014000e+03</td>\n",
              "      <td>9.000000e+00</td>\n",
              "      <td>2.400000e+01</td>\n",
              "      <td>5.500000e+01</td>\n",
              "    </tr>\n",
              "    <tr>\n",
              "      <th>max</th>\n",
              "      <td>3.300000e+01</td>\n",
              "      <td>5.900000e+01</td>\n",
              "      <td>2.216900e+04</td>\n",
              "      <td>3.079800e+05</td>\n",
              "      <td>2.169000e+03</td>\n",
              "      <td>2.015000e+03</td>\n",
              "      <td>1.200000e+01</td>\n",
              "      <td>3.100000e+01</td>\n",
              "      <td>8.300000e+01</td>\n",
              "    </tr>\n",
              "  </tbody>\n",
              "</table>\n",
              "</div>"
            ],
            "text/plain": [
              "       date_block_num       shop_id  ...           Day  item_category_id\n",
              "count    2.935843e+06  2.935843e+06  ...  2.935843e+06      2.935843e+06\n",
              "mean     1.456991e+01  3.331062e+01  ...  1.585267e+01      4.000141e+01\n",
              "std      9.422992e+00  1.613680e+01  ...  8.923479e+00      1.710076e+01\n",
              "min      0.000000e+00  2.000000e+00  ...  1.000000e+00      0.000000e+00\n",
              "25%      7.000000e+00  2.200000e+01  ...  8.000000e+00      2.800000e+01\n",
              "50%      1.400000e+01  3.100000e+01  ...  1.600000e+01      4.000000e+01\n",
              "75%      2.300000e+01  4.800000e+01  ...  2.400000e+01      5.500000e+01\n",
              "max      3.300000e+01  5.900000e+01  ...  3.100000e+01      8.300000e+01\n",
              "\n",
              "[8 rows x 9 columns]"
            ]
          },
          "metadata": {
            "tags": []
          },
          "execution_count": 12
        }
      ]
    },
    {
      "cell_type": "code",
      "metadata": {
        "colab": {
          "base_uri": "https://localhost:8080/",
          "height": 369
        },
        "id": "BuWkbY2hsgoO",
        "outputId": "d9826b67-6aa3-4fe6-91ed-228e86684602"
      },
      "source": [
        "f, axes = plt.subplots(1,2)\n",
        "axes[0] = sb.boxplot(merged.item_cnt_day, ax=axes[0])\n",
        "axes[1] = sb.boxplot(merged.item_price, ax=axes[1])"
      ],
      "execution_count": 18,
      "outputs": [
        {
          "output_type": "stream",
          "text": [
            "/usr/local/lib/python3.7/dist-packages/seaborn/_decorators.py:43: FutureWarning: Pass the following variable as a keyword arg: x. From version 0.12, the only valid positional argument will be `data`, and passing other arguments without an explicit keyword will result in an error or misinterpretation.\n",
            "  FutureWarning\n",
            "/usr/local/lib/python3.7/dist-packages/seaborn/_decorators.py:43: FutureWarning: Pass the following variable as a keyword arg: x. From version 0.12, the only valid positional argument will be `data`, and passing other arguments without an explicit keyword will result in an error or misinterpretation.\n",
            "  FutureWarning\n"
          ],
          "name": "stderr"
        },
        {
          "output_type": "display_data",
          "data": {
            "image/png": "[encoded data removed]",
            "text/plain": [
              "<Figure size 432x288 with 2 Axes>"
            ]
          },
          "metadata": {
            "tags": [],
            "needs_background": "light"
          }
        }
      ]
    },
    {
      "cell_type": "code",
      "metadata": {
        "id": "3uYfb4vWDhu7"
      },
      "source": [
        "condition = ((merged['item_cnt_day']>0)&(merged['item_cnt_day']<1000) & (merged['item_price']<100000) & (merged['item_price']>0))\n",
        "\n",
        "df = merged[condition]"
      ],
      "execution_count": 19,
      "outputs": []
    },
    {
      "cell_type": "markdown",
      "metadata": {
        "id": "oA2R3_rgYGFr"
      },
      "source": [
        "Replacing prices in the dataframe with median price found for each item to account for differences in item prices over time. "
      ]
    },
    {
      "cell_type": "code",
      "metadata": {
        "colab": {
          "base_uri": "https://localhost:8080/",
          "height": 271
        },
        "id": "xpNJUqwsuDBY",
        "outputId": "c7775a6b-4545-45b9-b98d-e39a7d9eae47"
      },
      "source": [
        "df.loc[df['item_id'] == 2552].head(n=2) ## For example, item 2552 has different prices for these shops"
      ],
      "execution_count": 25,
      "outputs": [
        {
          "output_type": "execute_result",
          "data": {
            "text/html": [
              "<div>\n",
              "<style scoped>\n",
              "    .dataframe tbody tr th:only-of-type {\n",
              "        vertical-align: middle;\n",
              "    }\n",
              "\n",
              "    .dataframe tbody tr th {\n",
              "        vertical-align: top;\n",
              "    }\n",
              "\n",
              "    .dataframe thead th {\n",
              "        text-align: right;\n",
              "    }\n",
              "</style>\n",
              "<table border=\"1\" class=\"dataframe\">\n",
              "  <thead>\n",
              "    <tr style=\"text-align: right;\">\n",
              "      <th></th>\n",
              "      <th>date</th>\n",
              "      <th>date_block_num</th>\n",
              "      <th>shop_id</th>\n",
              "      <th>item_id</th>\n",
              "      <th>item_price</th>\n",
              "      <th>item_cnt_day</th>\n",
              "      <th>Year</th>\n",
              "      <th>Month</th>\n",
              "      <th>Day</th>\n",
              "      <th>shop_name</th>\n",
              "      <th>item_name</th>\n",
              "      <th>item_category_id</th>\n",
              "      <th>item_category_name</th>\n",
              "    </tr>\n",
              "  </thead>\n",
              "  <tbody>\n",
              "    <tr>\n",
              "      <th>1</th>\n",
              "      <td>03.01.2013</td>\n",
              "      <td>0</td>\n",
              "      <td>25</td>\n",
              "      <td>2552</td>\n",
              "      <td>899.0</td>\n",
              "      <td>1.0</td>\n",
              "      <td>2013</td>\n",
              "      <td>1</td>\n",
              "      <td>3</td>\n",
              "      <td>Москва ТРК \"Атриум\"</td>\n",
              "      <td>DEEP PURPLE  The House Of Blue Light  LP</td>\n",
              "      <td>58</td>\n",
              "      <td>Музыка - Винил</td>\n",
              "    </tr>\n",
              "    <tr>\n",
              "      <th>375823</th>\n",
              "      <td>25.04.2013</td>\n",
              "      <td>3</td>\n",
              "      <td>6</td>\n",
              "      <td>2552</td>\n",
              "      <td>949.0</td>\n",
              "      <td>1.0</td>\n",
              "      <td>2013</td>\n",
              "      <td>4</td>\n",
              "      <td>25</td>\n",
              "      <td>Воронеж (Плехановская, 13)</td>\n",
              "      <td>DEEP PURPLE  The House Of Blue Light  LP</td>\n",
              "      <td>58</td>\n",
              "      <td>Музыка - Винил</td>\n",
              "    </tr>\n",
              "  </tbody>\n",
              "</table>\n",
              "</div>"
            ],
            "text/plain": [
              "              date  date_block_num  ...  item_category_id  item_category_name\n",
              "1       03.01.2013               0  ...                58      Музыка - Винил\n",
              "375823  25.04.2013               3  ...                58      Музыка - Винил\n",
              "\n",
              "[2 rows x 13 columns]"
            ]
          },
          "metadata": {
            "tags": []
          },
          "execution_count": 25
        }
      ]
    },
    {
      "cell_type": "code",
      "metadata": {
        "id": "iZt6nBOziQ19"
      },
      "source": [
        "prices = (pd.DataFrame(df.groupby(by=['item_id']).median()))"
      ],
      "execution_count": 28,
      "outputs": []
    },
    {
      "cell_type": "code",
      "metadata": {
        "id": "uRkHYuAHoCjm"
      },
      "source": [
        "prices = prices.iloc[:,[2]]"
      ],
      "execution_count": 30,
      "outputs": []
    },
    {
      "cell_type": "code",
      "metadata": {
        "id": "yNNxBeEVodUL"
      },
      "source": [
        "prices.reset_index(inplace=True)"
      ],
      "execution_count": 31,
      "outputs": []
    },
    {
      "cell_type": "code",
      "metadata": {
        "id": "NBJCs3OzopHn"
      },
      "source": [
        "df2 = pd.merge(df,prices,on='item_id',how='left')"
      ],
      "execution_count": 32,
      "outputs": []
    },
    {
      "cell_type": "code",
      "metadata": {
        "id": "X9Zg28BnqCnk"
      },
      "source": [
        "df2.drop(columns='item_price_x',inplace=True)\n",
        "df2.rename(columns={'item_price_y':'item_price'},inplace=True)"
      ],
      "execution_count": 33,
      "outputs": []
    },
    {
      "cell_type": "markdown",
      "metadata": {
        "id": "AKMxMoCUYcmp"
      },
      "source": [
        "Grouping rows to get item count per month, by=list in order to isolate the label "
      ]
    },
    {
      "cell_type": "code",
      "metadata": {
        "id": "mOPIB8dx0Eq_"
      },
      "source": [
        "grp = pd.DataFrame((df2.groupby(by=['Year','Month','date_block_num','shop_id','shop_name','item_id','item_name','item_category_id','item_category_name','item_price'])).sum())"
      ],
      "execution_count": 34,
      "outputs": []
    },
    {
      "cell_type": "code",
      "metadata": {
        "id": "S5gntVXw0bJa"
      },
      "source": [
        "grp.drop(columns = ['Day'], inplace=True)"
      ],
      "execution_count": 35,
      "outputs": []
    },
    {
      "cell_type": "code",
      "metadata": {
        "id": "BIjT6Hxj_lhO"
      },
      "source": [
        "grp.reset_index(inplace=True)"
      ],
      "execution_count": 36,
      "outputs": []
    },
    {
      "cell_type": "code",
      "metadata": {
        "id": "LJOEyG6R9HKG"
      },
      "source": [
        "grp.rename(columns={\"item_cnt_day\":\"item_cnt_month\"},inplace=True)"
      ],
      "execution_count": 37,
      "outputs": []
    },
    {
      "cell_type": "markdown",
      "metadata": {
        "id": "HnW5wwYXagb_"
      },
      "source": [
        "clipping values from [0,20]"
      ]
    },
    {
      "cell_type": "code",
      "metadata": {
        "id": "M03QAPI3AAh9"
      },
      "source": [
        "grp.loc[grp['item_cnt_month']>20,['item_cnt_month']] = 20"
      ],
      "execution_count": 38,
      "outputs": []
    },
    {
      "cell_type": "code",
      "metadata": {
        "id": "MLHutGjUZzpQ"
      },
      "source": [
        "grp.loc[grp['item_cnt_month']<0, ['item_cnt_month']] = 0"
      ],
      "execution_count": 39,
      "outputs": []
    },
    {
      "cell_type": "code",
      "metadata": {
        "colab": {
          "base_uri": "https://localhost:8080/"
        },
        "id": "Qqjz6o07D5l8",
        "outputId": "98bc56f6-04a4-4bda-bcea-6e1d45a01021"
      },
      "source": [
        "print(grp.item_cnt_month.max(), grp.item_cnt_month.min())"
      ],
      "execution_count": 41,
      "outputs": [
        {
          "output_type": "stream",
          "text": [
            "20.0 1.0\n"
          ],
          "name": "stdout"
        }
      ]
    },
    {
      "cell_type": "markdown",
      "metadata": {
        "id": "TRgHaJR8uzer"
      },
      "source": [
        "Creating columnz containing mean price of each item's assigned category, and the ratio of each item's price against the category mean."
      ]
    },
    {
      "cell_type": "code",
      "metadata": {
        "id": "TWY_qa8fjPBF"
      },
      "source": [
        "prices_cat = pd.merge(item_merge, prices, on='item_id',how='left').drop(columns=['item_name','item_category_name','item_id'])"
      ],
      "execution_count": 42,
      "outputs": []
    },
    {
      "cell_type": "code",
      "metadata": {
        "id": "VVxQ9m1hmscK"
      },
      "source": [
        "prices_cat = prices_cat.groupby(by='item_category_id').mean()"
      ],
      "execution_count": 43,
      "outputs": []
    },
    {
      "cell_type": "code",
      "metadata": {
        "id": "xMdbKNY3qy4w"
      },
      "source": [
        "prices_cat.rename(columns={'item_price':'cat_mean'},inplace=True)"
      ],
      "execution_count": 44,
      "outputs": []
    },
    {
      "cell_type": "code",
      "metadata": {
        "id": "hsRBzYAwcPjv"
      },
      "source": [
        "grp = pd.merge(grp,prices_cat,on='item_category_id',how='left')"
      ],
      "execution_count": 45,
      "outputs": []
    },
    {
      "cell_type": "code",
      "metadata": {
        "id": "5kkfykSFol1P"
      },
      "source": [
        "grp['price_ratio'] = grp['item_price']/grp['cat_mean']"
      ],
      "execution_count": 46,
      "outputs": []
    },
    {
      "cell_type": "code",
      "metadata": {
        "colab": {
          "base_uri": "https://localhost:8080/",
          "height": 434
        },
        "id": "_WKReoSqo0by",
        "outputId": "98b4fd42-345d-4407-dc50-67e305f465ce"
      },
      "source": [
        "grp.head()"
      ],
      "execution_count": 47,
      "outputs": [
        {
          "output_type": "execute_result",
          "data": {
            "text/html": [
              "<div>\n",
              "<style scoped>\n",
              "    .dataframe tbody tr th:only-of-type {\n",
              "        vertical-align: middle;\n",
              "    }\n",
              "\n",
              "    .dataframe tbody tr th {\n",
              "        vertical-align: top;\n",
              "    }\n",
              "\n",
              "    .dataframe thead th {\n",
              "        text-align: right;\n",
              "    }\n",
              "</style>\n",
              "<table border=\"1\" class=\"dataframe\">\n",
              "  <thead>\n",
              "    <tr style=\"text-align: right;\">\n",
              "      <th></th>\n",
              "      <th>Year</th>\n",
              "      <th>Month</th>\n",
              "      <th>date_block_num</th>\n",
              "      <th>shop_id</th>\n",
              "      <th>shop_name</th>\n",
              "      <th>item_id</th>\n",
              "      <th>item_name</th>\n",
              "      <th>item_category_id</th>\n",
              "      <th>item_category_name</th>\n",
              "      <th>item_price</th>\n",
              "      <th>item_cnt_month</th>\n",
              "      <th>cat_mean</th>\n",
              "      <th>price_ratio</th>\n",
              "    </tr>\n",
              "  </thead>\n",
              "  <tbody>\n",
              "    <tr>\n",
              "      <th>0</th>\n",
              "      <td>2013</td>\n",
              "      <td>1</td>\n",
              "      <td>0</td>\n",
              "      <td>2</td>\n",
              "      <td>Адыгея ТЦ \"Мега\"</td>\n",
              "      <td>27</td>\n",
              "      <td>007 Legends [PS3, русская версия]</td>\n",
              "      <td>19</td>\n",
              "      <td>Игры - PS3</td>\n",
              "      <td>1398.0</td>\n",
              "      <td>1.0</td>\n",
              "      <td>1420.083504</td>\n",
              "      <td>0.984449</td>\n",
              "    </tr>\n",
              "    <tr>\n",
              "      <th>1</th>\n",
              "      <td>2013</td>\n",
              "      <td>1</td>\n",
              "      <td>0</td>\n",
              "      <td>2</td>\n",
              "      <td>Адыгея ТЦ \"Мега\"</td>\n",
              "      <td>33</td>\n",
              "      <td>1+1 (BD)</td>\n",
              "      <td>37</td>\n",
              "      <td>Кино - Blu-Ray</td>\n",
              "      <td>199.0</td>\n",
              "      <td>1.0</td>\n",
              "      <td>385.057106</td>\n",
              "      <td>0.516806</td>\n",
              "    </tr>\n",
              "    <tr>\n",
              "      <th>2</th>\n",
              "      <td>2013</td>\n",
              "      <td>1</td>\n",
              "      <td>0</td>\n",
              "      <td>2</td>\n",
              "      <td>Адыгея ТЦ \"Мега\"</td>\n",
              "      <td>317</td>\n",
              "      <td>1С:Аудиокниги. Мединский В. Мифы о России. О р...</td>\n",
              "      <td>45</td>\n",
              "      <td>Книги - Аудиокниги 1С</td>\n",
              "      <td>299.0</td>\n",
              "      <td>1.0</td>\n",
              "      <td>254.854545</td>\n",
              "      <td>1.173218</td>\n",
              "    </tr>\n",
              "    <tr>\n",
              "      <th>3</th>\n",
              "      <td>2013</td>\n",
              "      <td>1</td>\n",
              "      <td>0</td>\n",
              "      <td>2</td>\n",
              "      <td>Адыгея ТЦ \"Мега\"</td>\n",
              "      <td>438</td>\n",
              "      <td>1С:Аудиотеатр. Лучшие произведения русских пис...</td>\n",
              "      <td>45</td>\n",
              "      <td>Книги - Аудиокниги 1С</td>\n",
              "      <td>299.0</td>\n",
              "      <td>1.0</td>\n",
              "      <td>254.854545</td>\n",
              "      <td>1.173218</td>\n",
              "    </tr>\n",
              "    <tr>\n",
              "      <th>4</th>\n",
              "      <td>2013</td>\n",
              "      <td>1</td>\n",
              "      <td>0</td>\n",
              "      <td>2</td>\n",
              "      <td>Адыгея ТЦ \"Мега\"</td>\n",
              "      <td>471</td>\n",
              "      <td>1С:Бухгалтерия 8 (ред.3.0) как на ладони. Изд ...</td>\n",
              "      <td>49</td>\n",
              "      <td>Книги - Методические материалы 1С</td>\n",
              "      <td>399.0</td>\n",
              "      <td>2.0</td>\n",
              "      <td>446.543210</td>\n",
              "      <td>0.893531</td>\n",
              "    </tr>\n",
              "  </tbody>\n",
              "</table>\n",
              "</div>"
            ],
            "text/plain": [
              "   Year  Month  date_block_num  ...  item_cnt_month     cat_mean  price_ratio\n",
              "0  2013      1               0  ...             1.0  1420.083504     0.984449\n",
              "1  2013      1               0  ...             1.0   385.057106     0.516806\n",
              "2  2013      1               0  ...             1.0   254.854545     1.173218\n",
              "3  2013      1               0  ...             1.0   254.854545     1.173218\n",
              "4  2013      1               0  ...             2.0   446.543210     0.893531\n",
              "\n",
              "[5 rows x 13 columns]"
            ]
          },
          "metadata": {
            "tags": []
          },
          "execution_count": 47
        }
      ]
    },
    {
      "cell_type": "markdown",
      "metadata": {
        "id": "F-eYcJPqFbxI"
      },
      "source": [
        "Create columns based on total of each item sold for each shops and average number sold per month"
      ]
    },
    {
      "cell_type": "code",
      "metadata": {
        "id": "FlCWkzC4LSLo"
      },
      "source": [
        "roll = (grp.groupby(by=['shop_id','item_id'])).sum()"
      ],
      "execution_count": 48,
      "outputs": []
    },
    {
      "cell_type": "code",
      "metadata": {
        "id": "r5-O9CpwE1t3"
      },
      "source": [
        "roll.rename(columns={\"item_cnt_month\":\"total_sales\"},inplace=True)"
      ],
      "execution_count": 49,
      "outputs": []
    },
    {
      "cell_type": "code",
      "metadata": {
        "id": "szbCQAyOETcj"
      },
      "source": [
        "roll = roll[['total_sales']]"
      ],
      "execution_count": 50,
      "outputs": []
    },
    {
      "cell_type": "code",
      "metadata": {
        "id": "3qH-tlBMEY6S"
      },
      "source": [
        "roll.reset_index(inplace=True)"
      ],
      "execution_count": 51,
      "outputs": []
    },
    {
      "cell_type": "code",
      "metadata": {
        "id": "adjkRKxkDzx9"
      },
      "source": [
        "total = pd.merge(grp,roll,on=['shop_id','item_id'])"
      ],
      "execution_count": 52,
      "outputs": []
    },
    {
      "cell_type": "code",
      "metadata": {
        "id": "wajhxJ2sFGJH"
      },
      "source": [
        "total['avg_month'] = total['total_sales']/(total['date_block_num'].max())"
      ],
      "execution_count": 53,
      "outputs": []
    },
    {
      "cell_type": "code",
      "metadata": {
        "id": "9oJAQiRVOHuS"
      },
      "source": [
        "total['sales_ratio'] = total['item_cnt_month']/total['total_sales']"
      ],
      "execution_count": 54,
      "outputs": []
    },
    {
      "cell_type": "code",
      "metadata": {
        "colab": {
          "base_uri": "https://localhost:8080/",
          "height": 417
        },
        "id": "UGemEFcuvVlh",
        "outputId": "48c838a3-8a84-4545-f75d-df9de7282296"
      },
      "source": [
        "total.head()"
      ],
      "execution_count": 55,
      "outputs": [
        {
          "output_type": "execute_result",
          "data": {
            "text/html": [
              "<div>\n",
              "<style scoped>\n",
              "    .dataframe tbody tr th:only-of-type {\n",
              "        vertical-align: middle;\n",
              "    }\n",
              "\n",
              "    .dataframe tbody tr th {\n",
              "        vertical-align: top;\n",
              "    }\n",
              "\n",
              "    .dataframe thead th {\n",
              "        text-align: right;\n",
              "    }\n",
              "</style>\n",
              "<table border=\"1\" class=\"dataframe\">\n",
              "  <thead>\n",
              "    <tr style=\"text-align: right;\">\n",
              "      <th></th>\n",
              "      <th>Year</th>\n",
              "      <th>Month</th>\n",
              "      <th>date_block_num</th>\n",
              "      <th>shop_id</th>\n",
              "      <th>shop_name</th>\n",
              "      <th>item_id</th>\n",
              "      <th>item_name</th>\n",
              "      <th>item_category_id</th>\n",
              "      <th>item_category_name</th>\n",
              "      <th>item_price</th>\n",
              "      <th>item_cnt_month</th>\n",
              "      <th>cat_mean</th>\n",
              "      <th>price_ratio</th>\n",
              "      <th>total_sales</th>\n",
              "      <th>avg_month</th>\n",
              "      <th>sales_ratio</th>\n",
              "    </tr>\n",
              "  </thead>\n",
              "  <tbody>\n",
              "    <tr>\n",
              "      <th>0</th>\n",
              "      <td>2013</td>\n",
              "      <td>1</td>\n",
              "      <td>0</td>\n",
              "      <td>2</td>\n",
              "      <td>Адыгея ТЦ \"Мега\"</td>\n",
              "      <td>27</td>\n",
              "      <td>007 Legends [PS3, русская версия]</td>\n",
              "      <td>19</td>\n",
              "      <td>Игры - PS3</td>\n",
              "      <td>1398.0</td>\n",
              "      <td>1.0</td>\n",
              "      <td>1420.083504</td>\n",
              "      <td>0.984449</td>\n",
              "      <td>2.0</td>\n",
              "      <td>0.060606</td>\n",
              "      <td>0.500000</td>\n",
              "    </tr>\n",
              "    <tr>\n",
              "      <th>1</th>\n",
              "      <td>2014</td>\n",
              "      <td>6</td>\n",
              "      <td>17</td>\n",
              "      <td>2</td>\n",
              "      <td>Адыгея ТЦ \"Мега\"</td>\n",
              "      <td>27</td>\n",
              "      <td>007 Legends [PS3, русская версия]</td>\n",
              "      <td>19</td>\n",
              "      <td>Игры - PS3</td>\n",
              "      <td>1398.0</td>\n",
              "      <td>1.0</td>\n",
              "      <td>1420.083504</td>\n",
              "      <td>0.984449</td>\n",
              "      <td>2.0</td>\n",
              "      <td>0.060606</td>\n",
              "      <td>0.500000</td>\n",
              "    </tr>\n",
              "    <tr>\n",
              "      <th>2</th>\n",
              "      <td>2013</td>\n",
              "      <td>1</td>\n",
              "      <td>0</td>\n",
              "      <td>2</td>\n",
              "      <td>Адыгея ТЦ \"Мега\"</td>\n",
              "      <td>33</td>\n",
              "      <td>1+1 (BD)</td>\n",
              "      <td>37</td>\n",
              "      <td>Кино - Blu-Ray</td>\n",
              "      <td>199.0</td>\n",
              "      <td>1.0</td>\n",
              "      <td>385.057106</td>\n",
              "      <td>0.516806</td>\n",
              "      <td>11.0</td>\n",
              "      <td>0.333333</td>\n",
              "      <td>0.090909</td>\n",
              "    </tr>\n",
              "    <tr>\n",
              "      <th>3</th>\n",
              "      <td>2013</td>\n",
              "      <td>11</td>\n",
              "      <td>10</td>\n",
              "      <td>2</td>\n",
              "      <td>Адыгея ТЦ \"Мега\"</td>\n",
              "      <td>33</td>\n",
              "      <td>1+1 (BD)</td>\n",
              "      <td>37</td>\n",
              "      <td>Кино - Blu-Ray</td>\n",
              "      <td>199.0</td>\n",
              "      <td>2.0</td>\n",
              "      <td>385.057106</td>\n",
              "      <td>0.516806</td>\n",
              "      <td>11.0</td>\n",
              "      <td>0.333333</td>\n",
              "      <td>0.181818</td>\n",
              "    </tr>\n",
              "    <tr>\n",
              "      <th>4</th>\n",
              "      <td>2013</td>\n",
              "      <td>12</td>\n",
              "      <td>11</td>\n",
              "      <td>2</td>\n",
              "      <td>Адыгея ТЦ \"Мега\"</td>\n",
              "      <td>33</td>\n",
              "      <td>1+1 (BD)</td>\n",
              "      <td>37</td>\n",
              "      <td>Кино - Blu-Ray</td>\n",
              "      <td>199.0</td>\n",
              "      <td>1.0</td>\n",
              "      <td>385.057106</td>\n",
              "      <td>0.516806</td>\n",
              "      <td>11.0</td>\n",
              "      <td>0.333333</td>\n",
              "      <td>0.090909</td>\n",
              "    </tr>\n",
              "  </tbody>\n",
              "</table>\n",
              "</div>"
            ],
            "text/plain": [
              "   Year  Month  date_block_num  ...  total_sales avg_month  sales_ratio\n",
              "0  2013      1               0  ...          2.0  0.060606     0.500000\n",
              "1  2014      6              17  ...          2.0  0.060606     0.500000\n",
              "2  2013      1               0  ...         11.0  0.333333     0.090909\n",
              "3  2013     11              10  ...         11.0  0.333333     0.181818\n",
              "4  2013     12              11  ...         11.0  0.333333     0.090909\n",
              "\n",
              "[5 rows x 16 columns]"
            ]
          },
          "metadata": {
            "tags": []
          },
          "execution_count": 55
        }
      ]
    },
    {
      "cell_type": "markdown",
      "metadata": {
        "id": "279YIx8wa8xD"
      },
      "source": [
        "Fixing test data"
      ]
    },
    {
      "cell_type": "code",
      "metadata": {
        "id": "SVJcIRwg1F1N",
        "colab": {
          "base_uri": "https://localhost:8080/",
          "height": 206
        },
        "outputId": "9074ba76-8219-4dd3-e9c5-5358556df37d"
      },
      "source": [
        "test.head()"
      ],
      "execution_count": null,
      "outputs": [
        {
          "output_type": "execute_result",
          "data": {
            "text/html": [
              "<div>\n",
              "<style scoped>\n",
              "    .dataframe tbody tr th:only-of-type {\n",
              "        vertical-align: middle;\n",
              "    }\n",
              "\n",
              "    .dataframe tbody tr th {\n",
              "        vertical-align: top;\n",
              "    }\n",
              "\n",
              "    .dataframe thead th {\n",
              "        text-align: right;\n",
              "    }\n",
              "</style>\n",
              "<table border=\"1\" class=\"dataframe\">\n",
              "  <thead>\n",
              "    <tr style=\"text-align: right;\">\n",
              "      <th></th>\n",
              "      <th>ID</th>\n",
              "      <th>shop_id</th>\n",
              "      <th>item_id</th>\n",
              "    </tr>\n",
              "  </thead>\n",
              "  <tbody>\n",
              "    <tr>\n",
              "      <th>0</th>\n",
              "      <td>0</td>\n",
              "      <td>5</td>\n",
              "      <td>5037</td>\n",
              "    </tr>\n",
              "    <tr>\n",
              "      <th>1</th>\n",
              "      <td>1</td>\n",
              "      <td>5</td>\n",
              "      <td>5320</td>\n",
              "    </tr>\n",
              "    <tr>\n",
              "      <th>2</th>\n",
              "      <td>2</td>\n",
              "      <td>5</td>\n",
              "      <td>5233</td>\n",
              "    </tr>\n",
              "    <tr>\n",
              "      <th>3</th>\n",
              "      <td>3</td>\n",
              "      <td>5</td>\n",
              "      <td>5232</td>\n",
              "    </tr>\n",
              "    <tr>\n",
              "      <th>4</th>\n",
              "      <td>4</td>\n",
              "      <td>5</td>\n",
              "      <td>5268</td>\n",
              "    </tr>\n",
              "  </tbody>\n",
              "</table>\n",
              "</div>"
            ],
            "text/plain": [
              "   ID  shop_id  item_id\n",
              "0   0        5     5037\n",
              "1   1        5     5320\n",
              "2   2        5     5233\n",
              "3   3        5     5232\n",
              "4   4        5     5268"
            ]
          },
          "metadata": {
            "tags": []
          },
          "execution_count": 97
        }
      ]
    },
    {
      "cell_type": "code",
      "metadata": {
        "id": "HA-8ISR93nOb"
      },
      "source": [
        "m1 = pd.merge(test, shops, on = 'shop_id', how = 'left')"
      ],
      "execution_count": 56,
      "outputs": []
    },
    {
      "cell_type": "code",
      "metadata": {
        "id": "pJPsuzNr4UcS"
      },
      "source": [
        "m2 = pd.merge(m1, item_merge, on = 'item_id', how = 'left')"
      ],
      "execution_count": 57,
      "outputs": []
    },
    {
      "cell_type": "code",
      "metadata": {
        "id": "pjK4sgM64ug1"
      },
      "source": [
        "m3 = pd.merge(m2,prices,on='item_id',how='left')"
      ],
      "execution_count": 67,
      "outputs": []
    },
    {
      "cell_type": "code",
      "metadata": {
        "id": "Vl-jLGwm5BRc"
      },
      "source": [
        "m3['Month'] = 11\n",
        "m3['Year'] = 2015\n",
        "m3['date_block_num'] = 34"
      ],
      "execution_count": 69,
      "outputs": []
    },
    {
      "cell_type": "markdown",
      "metadata": {
        "id": "bDvAQvJ7v43g"
      },
      "source": [
        "There are some NaN values in item_price due to these items being absent in the train set, perhaps these items have never been sold at all or are new. Replace NaN values with category mean."
      ]
    },
    {
      "cell_type": "code",
      "metadata": {
        "id": "VZUjh2bduAOk"
      },
      "source": [
        "m3 = pd.merge(m3,prices_cat,on='item_category_id',how='left')"
      ],
      "execution_count": 70,
      "outputs": []
    },
    {
      "cell_type": "code",
      "metadata": {
        "id": "wpEdncu4TKWZ"
      },
      "source": [
        "block = m3.loc[m3['item_price'].isna(), ['item_price','cat_mean']] "
      ],
      "execution_count": 71,
      "outputs": []
    },
    {
      "cell_type": "code",
      "metadata": {
        "id": "khC7d6e0TlTF"
      },
      "source": [
        "m3.loc[m3['item_price'].isna(),['item_price']] = block['cat_mean']"
      ],
      "execution_count": 72,
      "outputs": []
    },
    {
      "cell_type": "code",
      "metadata": {
        "id": "vIlELvQOxxJA"
      },
      "source": [
        "m3['price_ratio'] = m3['item_price']/m3['cat_mean']"
      ],
      "execution_count": 73,
      "outputs": []
    },
    {
      "cell_type": "markdown",
      "metadata": {
        "id": "yyH3KUYjcpSy"
      },
      "source": [
        "############################################"
      ]
    },
    {
      "cell_type": "markdown",
      "metadata": {
        "id": "gdkoJOesanZ6"
      },
      "source": [
        "START OF TF NN TRIAL"
      ]
    },
    {
      "cell_type": "markdown",
      "metadata": {
        "id": "lpIrd0Eww2GA"
      },
      "source": [
        "Note: The target used for this trial was avg_month instead of directly using item_cnt_month, which yielded an rmse of 1.32146 on the hidden test set on Kaggle. \n",
        "\n",
        "The reason for this was because item_cnt_month though convenient, may have caused bias in the model as the train data only contained rows where sales have been made. Thus, occasions where there were no sales at all were omitted, which may result in item_cnt_month predicted values being higher than expected. Thus, avg_month was created to give a better representation of the sales of each item in each shop overall.\n",
        "\n",
        "Indeed, using avg_month attained a better score than item_cnt_month, thus will be sticking to that target value."
      ]
    },
    {
      "cell_type": "markdown",
      "metadata": {
        "id": "oRkrLbhXw0i7"
      },
      "source": [
        "######################################"
      ]
    },
    {
      "cell_type": "code",
      "metadata": {
        "colab": {
          "base_uri": "https://localhost:8080/"
        },
        "id": "TNgFngZetDKO",
        "outputId": "dbf1b6ba-f064-40af-a16d-d824de4cd162"
      },
      "source": [
        "train_df,test_df = train_test_split(total,test_size = 0.2,random_state = 123)\n",
        "train_df.shape, test_df.shape"
      ],
      "execution_count": 91,
      "outputs": [
        {
          "output_type": "execute_result",
          "data": {
            "text/plain": [
              "((1286579, 16), (321645, 16))"
            ]
          },
          "metadata": {
            "tags": []
          },
          "execution_count": 91
        }
      ]
    },
    {
      "cell_type": "code",
      "metadata": {
        "colab": {
          "base_uri": "https://localhost:8080/",
          "height": 105
        },
        "id": "fSqmmo0SXAv3",
        "outputId": "fd779a91-436e-4e5f-c084-febaa027baf7"
      },
      "source": [
        "def create_model(my_learning_rate, my_feature_layer):\n",
        "    \"\"\"Create and compile a simple linear regression model.\"\"\"\n",
        "\n",
        "    # Discard any pre-existing version of the model.\n",
        "    model = None\n",
        "\n",
        "    # Most simple tf.keras models are sequential.\n",
        "    model = tf.keras.models.Sequential()\n",
        "\n",
        "    # Add the layer containing the feature columns to the model.\n",
        "    model.add(my_feature_layer)\n",
        "\n",
        "    # Describe the topography of the model. \n",
        "\n",
        "    # Implement L2 regularization in the first hidden layer.\n",
        "    model.add(tf.keras.layers.Dense(units=20, \n",
        "                                  activation='relu',\n",
        "                                  kernel_regularizer=tf.keras.regularizers.l2(0.01),\n",
        "                                  name='Hidden1'))\n",
        "\n",
        "    # Implement L2 regularization in the second hidden layer.\n",
        "    model.add(tf.keras.layers.Dense(units=20, \n",
        "                                  activation='relu', \n",
        "                                  kernel_regularizer=tf.keras.regularizers.l2(0.01),\n",
        "                                  name='Hidden2'))\n",
        "    \n",
        "\n",
        "    # Define the output layer.\n",
        "    model.add(tf.keras.layers.Dense(units=1,  \n",
        "                                  name='Output'))                              \n",
        "\n",
        "    model.compile(optimizer=tf.keras.optimizers.Adam(learning_rate=my_learning_rate),\n",
        "                loss=\"mean_squared_error\",\n",
        "                metrics=[tf.keras.metrics.MeanSquaredError()])\n",
        "\n",
        "    return model     \n",
        "\n",
        "def train_model(model, dataset, epochs, label_name, callback,\n",
        "                batch_size=None):\n",
        "    \"\"\"Train the model by feeding it data.\"\"\"\n",
        "\n",
        "    # Split the dataset into features and label.\n",
        "    features = {name:np.array(value) for name, value in dataset.items()}\n",
        "    label = np.array(features.pop(label_name))\n",
        "    history = model.fit(x=features, y=label, batch_size=batch_size,\n",
        "                      epochs=epochs, callbacks=[callback], shuffle=True) \n",
        "\n",
        "    # The list of epochs is stored separately from the rest of history.\n",
        "    epochs = history.epoch\n",
        "\n",
        "    # To track the progression of training, gather a snapshot\n",
        "    # of the model's mean squared error at each epoch. \n",
        "    hist = pd.DataFrame(history.history)\n",
        "    mse = hist[\"mean_squared_error\"]\n",
        "\n",
        "    return epochs, mse\n",
        "\n",
        "# Call the new create_model function and the other (unchanged) functions.\n",
        "\n",
        "# The following variables are the hyperparameters.\n",
        "\n"
      ],
      "execution_count": 76,
      "outputs": [
        {
          "output_type": "execute_result",
          "data": {
            "application/vnd.google.colaboratory.intrinsic+json": {
              "type": "string"
            },
            "text/plain": [
              "'\\nlearning_rate = 0.007\\nepochs = 140\\nbatch_size = 1000\\n\\nlabel_name = \"median_house_value\"\\n\\n# Establish the model\\'s topography.\\nmy_model = create_model(learning_rate, my_feature_layer)\\n\\n# Train the model on the normalized training set.\\nepochs, mse = train_model(my_model, train_df_norm, epochs, \\n                          label_name, batch_size)\\nplot_the_loss_curve(epochs, mse)\\n\\ntest_features = {name:np.array(value) for name, value in test_df_norm.items()}\\ntest_label = np.array(test_features.pop(label_name)) # isolate the label\\nprint(\"\\n Evaluate the new model against the test set:\")\\nmy_model.evaluate(x = test_features, y = test_label, batch_size=batch_size) '"
            ]
          },
          "metadata": {
            "tags": []
          },
          "execution_count": 76
        }
      ]
    },
    {
      "cell_type": "code",
      "metadata": {
        "id": "qw-aVPqVXBoE"
      },
      "source": [
        "feature_columns = []\n",
        "\n",
        "to_num = ['Year','Month','date_block_num','shop_id','item_id','item_category_id','item_price','cat_mean','price_ratio']\n",
        "target = \"avg_month\"\n",
        "to_cat = [\"shop_name\", \"item_name\", \"item_category_name\"]\n",
        "\n",
        "for num in to_num:\n",
        "  add = tf.feature_column.numeric_column(num)\n",
        "  feature_columns.append(add)\n",
        "\n",
        "for cat in to_cat:\n",
        "  vector = feature_column.categorical_column_with_vocabulary_list(cat, grp[cat].unique())\n",
        "  vector_embedding = feature_column.embedding_column(vector, dimension=12)\n",
        "  feature_columns.append(vector_embedding)\n",
        "\n",
        "\n",
        "# Convert the list of feature columns into a layer that will later be fed into\n",
        "# the model. \n",
        "feature_layer = layers.DenseFeatures(feature_columns)\n",
        "\n"
      ],
      "execution_count": 93,
      "outputs": []
    },
    {
      "cell_type": "code",
      "metadata": {
        "colab": {
          "base_uri": "https://localhost:8080/"
        },
        "id": "kKDy8SFfQPD_",
        "outputId": "504b43a2-7834-46d6-d8ff-d4c12bc3e599"
      },
      "source": [
        "def plot_the_loss_curve(epochs, mse):\n",
        "    \"\"\"Plot a curve of loss vs. epoch.\"\"\"\n",
        "\n",
        "    plt.figure()\n",
        "    plt.xlabel(\"Epoch\")\n",
        "    plt.ylabel(\"Mean Squared Error\")\n",
        "\n",
        "    plt.plot(epochs, mse, label=\"Loss\")\n",
        "    plt.legend()\n",
        "    plt.ylim([mse.min()*0.95, mse.max() * 0.0001])\n",
        "    plt.show()  \n",
        "\n",
        "print(\"Defined the plot_the_loss_curve function.\")"
      ],
      "execution_count": 94,
      "outputs": [
        {
          "output_type": "stream",
          "text": [
            "Defined the plot_the_loss_curve function.\n"
          ],
          "name": "stdout"
        }
      ]
    },
    {
      "cell_type": "code",
      "metadata": {
        "id": "HMj1KECkqGf5"
      },
      "source": [
        "learning_rate = 0.0001\n",
        "epochs = 100\n",
        "batch_size = 1000\n",
        "callback = tf.keras.callbacks.EarlyStopping(monitor='loss', patience=5, mode='min')\n",
        "\n",
        "label_name = \"avg_month\"\n",
        "\n",
        "# Establish the model's topography.\n",
        "my_model = create_model(learning_rate, feature_layer)\n",
        "\n",
        "# Train the model on the normalized training set.\n",
        "epochs, mse = train_model(my_model, train_df, epochs, label_name, callback, batch_size)\n",
        "plot_the_loss_curve(epochs,mse)\n",
        "test_features = {name:np.array(value) for name, value in test_df.items()}\n",
        "test_label = np.array(test_features.pop(label_name)) # isolate the label\n",
        "print(\"\\n Evaluate the new model against the test set:\")\n",
        "my_model.evaluate(x = test_features, y = test_label, batch_size=batch_size)"
      ],
      "execution_count": null,
      "outputs": []
    },
    {
      "cell_type": "code",
      "metadata": {
        "id": "0Ox8tv_xOsFY"
      },
      "source": [
        "final_test = {name:np.array(value) for name, value in m3.items()}"
      ],
      "execution_count": 104,
      "outputs": []
    },
    {
      "cell_type": "code",
      "metadata": {
        "id": "QqavLilyRAgV",
        "colab": {
          "base_uri": "https://localhost:8080/"
        },
        "outputId": "a22bb62a-f739-411d-8403-0dd87eeb92a2"
      },
      "source": [
        "submit = pd.DataFrame(data = my_model.predict(x=final_test), columns=['item_cnt_month'])"
      ],
      "execution_count": 105,
      "outputs": [
        {
          "output_type": "stream",
          "text": [
            "WARNING:tensorflow:Layers in a Sequential model should only have a single input tensor, but we receive a <class 'dict'> input: {'ID': <tf.Tensor 'ExpandDims:0' shape=(None, 1) dtype=int64>, 'shop_id': <tf.Tensor 'ExpandDims_11:0' shape=(None, 1) dtype=int64>, 'item_id': <tf.Tensor 'ExpandDims_7:0' shape=(None, 1) dtype=int64>, 'shop_name': <tf.Tensor 'ExpandDims_12:0' shape=(None, 1) dtype=string>, 'item_name': <tf.Tensor 'ExpandDims_8:0' shape=(None, 1) dtype=string>, 'item_category_id': <tf.Tensor 'ExpandDims_5:0' shape=(None, 1) dtype=int64>, 'item_category_name': <tf.Tensor 'ExpandDims_6:0' shape=(None, 1) dtype=string>, 'item_price': <tf.Tensor 'ExpandDims_9:0' shape=(None, 1) dtype=float32>, 'Month': <tf.Tensor 'ExpandDims_1:0' shape=(None, 1) dtype=int64>, 'Year': <tf.Tensor 'ExpandDims_2:0' shape=(None, 1) dtype=int64>, 'date_block_num': <tf.Tensor 'ExpandDims_4:0' shape=(None, 1) dtype=int64>, 'cat_mean': <tf.Tensor 'ExpandDims_3:0' shape=(None, 1) dtype=float32>, 'price_ratio': <tf.Tensor 'ExpandDims_10:0' shape=(None, 1) dtype=float32>}\n",
            "Consider rewriting this model with the Functional API.\n"
          ],
          "name": "stdout"
        }
      ]
    },
    {
      "cell_type": "code",
      "metadata": {
        "id": "J-QqwSknRXxY"
      },
      "source": [
        "submit.loc[(submit['item_cnt_month']<=0),['item_cnt_month']] = 0"
      ],
      "execution_count": 106,
      "outputs": []
    },
    {
      "cell_type": "code",
      "metadata": {
        "id": "K9-uQtqwRa87"
      },
      "source": [
        "submit.reset_index(inplace=True)\n",
        "submit.rename(columns={\"index\":\"ID\"}, inplace=True)"
      ],
      "execution_count": 107,
      "outputs": []
    },
    {
      "cell_type": "code",
      "metadata": {
        "colab": {
          "base_uri": "https://localhost:8080/",
          "height": 423
        },
        "id": "kJ08Y8M3_SFs",
        "outputId": "03ddc457-11db-447c-99c6-89011820df52"
      },
      "source": [
        "submit"
      ],
      "execution_count": 108,
      "outputs": [
        {
          "output_type": "execute_result",
          "data": {
            "text/html": [
              "<div>\n",
              "<style scoped>\n",
              "    .dataframe tbody tr th:only-of-type {\n",
              "        vertical-align: middle;\n",
              "    }\n",
              "\n",
              "    .dataframe tbody tr th {\n",
              "        vertical-align: top;\n",
              "    }\n",
              "\n",
              "    .dataframe thead th {\n",
              "        text-align: right;\n",
              "    }\n",
              "</style>\n",
              "<table border=\"1\" class=\"dataframe\">\n",
              "  <thead>\n",
              "    <tr style=\"text-align: right;\">\n",
              "      <th></th>\n",
              "      <th>ID</th>\n",
              "      <th>item_cnt_month</th>\n",
              "    </tr>\n",
              "  </thead>\n",
              "  <tbody>\n",
              "    <tr>\n",
              "      <th>0</th>\n",
              "      <td>0</td>\n",
              "      <td>0.767626</td>\n",
              "    </tr>\n",
              "    <tr>\n",
              "      <th>1</th>\n",
              "      <td>1</td>\n",
              "      <td>0.384002</td>\n",
              "    </tr>\n",
              "    <tr>\n",
              "      <th>2</th>\n",
              "      <td>2</td>\n",
              "      <td>0.258020</td>\n",
              "    </tr>\n",
              "    <tr>\n",
              "      <th>3</th>\n",
              "      <td>3</td>\n",
              "      <td>0.000000</td>\n",
              "    </tr>\n",
              "    <tr>\n",
              "      <th>4</th>\n",
              "      <td>4</td>\n",
              "      <td>3.642047</td>\n",
              "    </tr>\n",
              "    <tr>\n",
              "      <th>...</th>\n",
              "      <td>...</td>\n",
              "      <td>...</td>\n",
              "    </tr>\n",
              "    <tr>\n",
              "      <th>214195</th>\n",
              "      <td>214195</td>\n",
              "      <td>0.197463</td>\n",
              "    </tr>\n",
              "    <tr>\n",
              "      <th>214196</th>\n",
              "      <td>214196</td>\n",
              "      <td>0.076539</td>\n",
              "    </tr>\n",
              "    <tr>\n",
              "      <th>214197</th>\n",
              "      <td>214197</td>\n",
              "      <td>0.119782</td>\n",
              "    </tr>\n",
              "    <tr>\n",
              "      <th>214198</th>\n",
              "      <td>214198</td>\n",
              "      <td>0.000000</td>\n",
              "    </tr>\n",
              "    <tr>\n",
              "      <th>214199</th>\n",
              "      <td>214199</td>\n",
              "      <td>0.000000</td>\n",
              "    </tr>\n",
              "  </tbody>\n",
              "</table>\n",
              "<p>214200 rows × 2 columns</p>\n",
              "</div>"
            ],
            "text/plain": [
              "            ID  item_cnt_month\n",
              "0            0        0.767626\n",
              "1            1        0.384002\n",
              "2            2        0.258020\n",
              "3            3        0.000000\n",
              "4            4        3.642047\n",
              "...        ...             ...\n",
              "214195  214195        0.197463\n",
              "214196  214196        0.076539\n",
              "214197  214197        0.119782\n",
              "214198  214198        0.000000\n",
              "214199  214199        0.000000\n",
              "\n",
              "[214200 rows x 2 columns]"
            ]
          },
          "metadata": {
            "tags": []
          },
          "execution_count": 108
        }
      ]
    },
    {
      "cell_type": "code",
      "metadata": {
        "id": "BPq6zl4iXnJA"
      },
      "source": [
        "#submit.to_csv(\"submission.csv\", index=False)"
      ],
      "execution_count": 110,
      "outputs": []
    },
    {
      "cell_type": "markdown",
      "metadata": {
        "id": "ESA9PU_3arkV"
      },
      "source": [
        "END OF TF NN TRIAL"
      ]
    },
    {
      "cell_type": "markdown",
      "metadata": {
        "id": "rITog9CpEb2D"
      },
      "source": [
        "########################################"
      ]
    },
    {
      "cell_type": "markdown",
      "metadata": {
        "id": "s0xu-jB_EXxM"
      },
      "source": [
        "XGBOOST trial"
      ]
    },
    {
      "cell_type": "markdown",
      "metadata": {
        "id": "1OCMVxbMybuh"
      },
      "source": [
        "Note: Lineup and shape of data and features must be same in both train and test sets, as well as when using predict.\n",
        "\n",
        "Target value will be avg_month for this trial as well. An rmse of 1.31999 was attained on Kaggle, a slight improvement from the TensorFlow model."
      ]
    },
    {
      "cell_type": "markdown",
      "metadata": {
        "id": "DWKTK7E1sEE3"
      },
      "source": [
        "###############################################"
      ]
    },
    {
      "cell_type": "code",
      "metadata": {
        "id": "eu5Bx0LueJm6"
      },
      "source": [
        "d = total.copy()"
      ],
      "execution_count": 77,
      "outputs": []
    },
    {
      "cell_type": "code",
      "metadata": {
        "id": "ieS0CHC1gV7l"
      },
      "source": [
        "d = d[['date_block_num','Month','Year','shop_id','item_id','item_price','item_category_id','cat_mean','price_ratio','avg_month']]"
      ],
      "execution_count": 78,
      "outputs": []
    },
    {
      "cell_type": "code",
      "metadata": {
        "id": "P1B8pXF0UoN0"
      },
      "source": [
        "import xgboost as xgb"
      ],
      "execution_count": 79,
      "outputs": []
    },
    {
      "cell_type": "code",
      "metadata": {
        "id": "4T5auzGWgDaP"
      },
      "source": [
        "train_df,test_df = train_test_split(d, test_size=0.2, random_state=123)"
      ],
      "execution_count": 80,
      "outputs": []
    },
    {
      "cell_type": "code",
      "metadata": {
        "id": "GFr711vUA_Uc"
      },
      "source": [
        "xgtrain = train_df.drop(columns='avg_month')"
      ],
      "execution_count": 81,
      "outputs": []
    },
    {
      "cell_type": "code",
      "metadata": {
        "id": "LX9ixKtSRWw4"
      },
      "source": [
        "label = train_df['avg_month']"
      ],
      "execution_count": 82,
      "outputs": []
    },
    {
      "cell_type": "code",
      "metadata": {
        "id": "QWzAmEIJQtcn"
      },
      "source": [
        "dtrain = xgb.DMatrix(xgtrain, label=label)"
      ],
      "execution_count": 83,
      "outputs": []
    },
    {
      "cell_type": "code",
      "metadata": {
        "id": "mhJYdq_rj3wE"
      },
      "source": [
        "xgtest = test_df.drop(columns='avg_month')"
      ],
      "execution_count": 84,
      "outputs": []
    },
    {
      "cell_type": "code",
      "metadata": {
        "id": "pcfo4xzhTlRb"
      },
      "source": [
        "dtest = xgb.DMatrix(xgtest, label=test_df['avg_month'])"
      ],
      "execution_count": 85,
      "outputs": []
    },
    {
      "cell_type": "code",
      "metadata": {
        "id": "Q1smLLDro5F-"
      },
      "source": [
        "params = {'max_depth':8,'eta':0.1,'lambda':0.2,'eval_metric':'rmse'}"
      ],
      "execution_count": 86,
      "outputs": []
    },
    {
      "cell_type": "code",
      "metadata": {
        "id": "faYhifRFpLH3"
      },
      "source": [
        "evallist = [(dtest, 'eval'), (dtrain, 'train')]"
      ],
      "execution_count": 87,
      "outputs": []
    },
    {
      "cell_type": "code",
      "metadata": {
        "id": "4nEuf8HiPttm",
        "colab": {
          "base_uri": "https://localhost:8080/",
          "height": 485
        },
        "outputId": "c8d849d6-7c30-42c0-a7ee-ba1346a581d1"
      },
      "source": [
        "num_round=500\n",
        "model = xgb.train(params,dtrain,num_round,evallist, early_stopping_rounds=5)"
      ],
      "execution_count": 111,
      "outputs": [
        {
          "output_type": "stream",
          "text": [
            "[0]\teval-rmse:1.16811\ttrain-rmse:1.16999\n",
            "Multiple eval metrics have been passed: 'train-rmse' will be used for early stopping.\n",
            "\n",
            "Will train until train-rmse hasn't improved in 5 rounds.\n",
            "[1]\teval-rmse:1.12488\ttrain-rmse:1.12696\n",
            "[2]\teval-rmse:1.08584\ttrain-rmse:1.08779\n",
            "[3]\teval-rmse:1.05433\ttrain-rmse:1.05621\n",
            "[4]\teval-rmse:1.02513\ttrain-rmse:1.0269\n",
            "[5]\teval-rmse:1.00317\ttrain-rmse:1.00485\n"
          ],
          "name": "stdout"
        },
        {
          "output_type": "error",
          "ename": "KeyboardInterrupt",
          "evalue": "ignored",
          "traceback": [
            "\u001b[0;31m---------------------------------------------------------------------------\u001b[0m",
            "\u001b[0;31mKeyboardInterrupt\u001b[0m                         Traceback (most recent call last)",
            "\u001b[0;32m<ipython-input-111-4b8891791cde>\u001b[0m in \u001b[0;36m<module>\u001b[0;34m()\u001b[0m\n\u001b[1;32m      1\u001b[0m \u001b[0mnum_round\u001b[0m\u001b[0;34m=\u001b[0m\u001b[0;36m500\u001b[0m\u001b[0;34m\u001b[0m\u001b[0;34m\u001b[0m\u001b[0m\n\u001b[0;32m----> 2\u001b[0;31m \u001b[0mmodel\u001b[0m \u001b[0;34m=\u001b[0m \u001b[0mxgb\u001b[0m\u001b[0;34m.\u001b[0m\u001b[0mtrain\u001b[0m\u001b[0;34m(\u001b[0m\u001b[0mparams\u001b[0m\u001b[0;34m,\u001b[0m\u001b[0mdtrain\u001b[0m\u001b[0;34m,\u001b[0m\u001b[0mnum_round\u001b[0m\u001b[0;34m,\u001b[0m\u001b[0mevallist\u001b[0m\u001b[0;34m,\u001b[0m \u001b[0mearly_stopping_rounds\u001b[0m\u001b[0;34m=\u001b[0m\u001b[0;36m5\u001b[0m\u001b[0;34m)\u001b[0m\u001b[0;34m\u001b[0m\u001b[0;34m\u001b[0m\u001b[0m\n\u001b[0m",
            "\u001b[0;32m/usr/local/lib/python3.7/dist-packages/xgboost/training.py\u001b[0m in \u001b[0;36mtrain\u001b[0;34m(params, dtrain, num_boost_round, evals, obj, feval, maximize, early_stopping_rounds, evals_result, verbose_eval, xgb_model, callbacks, learning_rates)\u001b[0m\n\u001b[1;32m    214\u001b[0m                            \u001b[0mevals\u001b[0m\u001b[0;34m=\u001b[0m\u001b[0mevals\u001b[0m\u001b[0;34m,\u001b[0m\u001b[0;34m\u001b[0m\u001b[0;34m\u001b[0m\u001b[0m\n\u001b[1;32m    215\u001b[0m                            \u001b[0mobj\u001b[0m\u001b[0;34m=\u001b[0m\u001b[0mobj\u001b[0m\u001b[0;34m,\u001b[0m \u001b[0mfeval\u001b[0m\u001b[0;34m=\u001b[0m\u001b[0mfeval\u001b[0m\u001b[0;34m,\u001b[0m\u001b[0;34m\u001b[0m\u001b[0;34m\u001b[0m\u001b[0m\n\u001b[0;32m--> 216\u001b[0;31m                            xgb_model=xgb_model, callbacks=callbacks)\n\u001b[0m\u001b[1;32m    217\u001b[0m \u001b[0;34m\u001b[0m\u001b[0m\n\u001b[1;32m    218\u001b[0m \u001b[0;34m\u001b[0m\u001b[0m\n",
            "\u001b[0;32m/usr/local/lib/python3.7/dist-packages/xgboost/training.py\u001b[0m in \u001b[0;36m_train_internal\u001b[0;34m(params, dtrain, num_boost_round, evals, obj, feval, xgb_model, callbacks)\u001b[0m\n\u001b[1;32m     72\u001b[0m         \u001b[0;31m# Skip the first update if it is a recovery step.\u001b[0m\u001b[0;34m\u001b[0m\u001b[0;34m\u001b[0m\u001b[0;34m\u001b[0m\u001b[0m\n\u001b[1;32m     73\u001b[0m         \u001b[0;32mif\u001b[0m \u001b[0mversion\u001b[0m \u001b[0;34m%\u001b[0m \u001b[0;36m2\u001b[0m \u001b[0;34m==\u001b[0m \u001b[0;36m0\u001b[0m\u001b[0;34m:\u001b[0m\u001b[0;34m\u001b[0m\u001b[0;34m\u001b[0m\u001b[0m\n\u001b[0;32m---> 74\u001b[0;31m             \u001b[0mbst\u001b[0m\u001b[0;34m.\u001b[0m\u001b[0mupdate\u001b[0m\u001b[0;34m(\u001b[0m\u001b[0mdtrain\u001b[0m\u001b[0;34m,\u001b[0m \u001b[0mi\u001b[0m\u001b[0;34m,\u001b[0m \u001b[0mobj\u001b[0m\u001b[0;34m)\u001b[0m\u001b[0;34m\u001b[0m\u001b[0;34m\u001b[0m\u001b[0m\n\u001b[0m\u001b[1;32m     75\u001b[0m             \u001b[0mbst\u001b[0m\u001b[0;34m.\u001b[0m\u001b[0msave_rabit_checkpoint\u001b[0m\u001b[0;34m(\u001b[0m\u001b[0;34m)\u001b[0m\u001b[0;34m\u001b[0m\u001b[0;34m\u001b[0m\u001b[0m\n\u001b[1;32m     76\u001b[0m             \u001b[0mversion\u001b[0m \u001b[0;34m+=\u001b[0m \u001b[0;36m1\u001b[0m\u001b[0;34m\u001b[0m\u001b[0;34m\u001b[0m\u001b[0m\n",
            "\u001b[0;32m/usr/local/lib/python3.7/dist-packages/xgboost/core.py\u001b[0m in \u001b[0;36mupdate\u001b[0;34m(self, dtrain, iteration, fobj)\u001b[0m\n\u001b[1;32m   1107\u001b[0m         \u001b[0;32mif\u001b[0m \u001b[0mfobj\u001b[0m \u001b[0;32mis\u001b[0m \u001b[0;32mNone\u001b[0m\u001b[0;34m:\u001b[0m\u001b[0;34m\u001b[0m\u001b[0;34m\u001b[0m\u001b[0m\n\u001b[1;32m   1108\u001b[0m             _check_call(_LIB.XGBoosterUpdateOneIter(self.handle, ctypes.c_int(iteration),\n\u001b[0;32m-> 1109\u001b[0;31m                                                     dtrain.handle))\n\u001b[0m\u001b[1;32m   1110\u001b[0m         \u001b[0;32melse\u001b[0m\u001b[0;34m:\u001b[0m\u001b[0;34m\u001b[0m\u001b[0;34m\u001b[0m\u001b[0m\n\u001b[1;32m   1111\u001b[0m             \u001b[0mpred\u001b[0m \u001b[0;34m=\u001b[0m \u001b[0mself\u001b[0m\u001b[0;34m.\u001b[0m\u001b[0mpredict\u001b[0m\u001b[0;34m(\u001b[0m\u001b[0mdtrain\u001b[0m\u001b[0;34m)\u001b[0m\u001b[0;34m\u001b[0m\u001b[0;34m\u001b[0m\u001b[0m\n",
            "\u001b[0;31mKeyboardInterrupt\u001b[0m: "
          ]
        }
      ]
    },
    {
      "cell_type": "code",
      "metadata": {
        "id": "JMgkFaSSEILJ"
      },
      "source": [
        "testdata = m3[['date_block_num','Month','Year','shop_id','item_id','item_price','item_category_id','cat_mean','price_ratio']]"
      ],
      "execution_count": null,
      "outputs": []
    },
    {
      "cell_type": "code",
      "metadata": {
        "id": "1ZbPUAlmq3hR"
      },
      "source": [
        "final = xgb.DMatrix(testdata)"
      ],
      "execution_count": null,
      "outputs": []
    },
    {
      "cell_type": "code",
      "metadata": {
        "id": "hdgIfgLRrGAQ"
      },
      "source": [
        "predicted = model.predict(final)"
      ],
      "execution_count": null,
      "outputs": []
    },
    {
      "cell_type": "code",
      "metadata": {
        "id": "EUP96RelERVd"
      },
      "source": [
        "submit = pd.DataFrame(data=predicted, columns = ['item_cnt_month'])"
      ],
      "execution_count": null,
      "outputs": []
    },
    {
      "cell_type": "code",
      "metadata": {
        "id": "UY2wkp0KrOnU"
      },
      "source": [
        "submit.loc[submit['item_cnt_month']<=0,['item_cnt_month']] = 0\n",
        "submit.loc[submit['item_cnt_month']>20,['item_cnt_month']] = 20"
      ],
      "execution_count": null,
      "outputs": []
    },
    {
      "cell_type": "code",
      "metadata": {
        "id": "7GQB7Kyq5l_n"
      },
      "source": [
        "model.get_score(importance_type='weight')"
      ],
      "execution_count": null,
      "outputs": []
    },
    {
      "cell_type": "code",
      "metadata": {
        "id": "0YIbErXVE5hm"
      },
      "source": [
        "#(submit.reset_index().rename(columns={'index':'ID'})).to_csv('submission.csv',index=False)"
      ],
      "execution_count": null,
      "outputs": []
    },
    {
      "cell_type": "markdown",
      "metadata": {
        "id": "vHAUOczLd5Uj"
      },
      "source": [
        "Rmse values could have possible been improved by tuning the hyperparameters of both models, as well as tweaking regularization rates. The chosen hyperparameters were mainly fixed based on how much patience I had."
      ]
    },
    {
      "cell_type": "code",
      "metadata": {
        "id": "1H0CYA9jeLyz"
      },
      "source": [
        ""
      ],
      "execution_count": null,
      "outputs": []
    }
  ]
}